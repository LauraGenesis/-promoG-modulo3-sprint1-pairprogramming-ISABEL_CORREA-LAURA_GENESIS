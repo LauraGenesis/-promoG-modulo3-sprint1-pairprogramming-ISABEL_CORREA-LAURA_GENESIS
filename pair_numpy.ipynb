{
 "cells": [
  {
   "cell_type": "markdown",
   "metadata": {},
   "source": [
    "## Pair programming Numpy"
   ]
  },
  {
   "cell_type": "code",
   "execution_count": 1,
   "metadata": {},
   "outputs": [],
   "source": [
    "# antes de empezar importamos la librería de NumPy para poder trabajar con todos sus métodos. \n",
    "import numpy as np"
   ]
  },
  {
   "cell_type": "markdown",
   "metadata": {},
   "source": [
    "Crea un array 1D con 50 valores aleatorio del 10 al 99. Accede a los elementos en las posiciones múltiplos de 5."
   ]
  },
  {
   "cell_type": "code",
   "execution_count": 45,
   "metadata": {},
   "outputs": [
    {
     "data": {
      "text/plain": [
       "array([30, 92, 32, 22, 71, 85, 40, 97, 20, 46, 77, 42, 32, 57, 26, 93, 34,\n",
       "       37, 56, 16, 31, 27, 46, 29, 77, 24, 23, 57, 42, 10, 22, 37, 67, 96,\n",
       "       16, 97, 39, 87, 51, 48, 32, 38, 20, 42, 52, 47, 86, 49, 83, 15])"
      ]
     },
     "execution_count": 45,
     "metadata": {},
     "output_type": "execute_result"
    }
   ],
   "source": [
    "array1= np.random.randint(10, 100, size=50)\n",
    "array1"
   ]
  },
  {
   "cell_type": "code",
   "execution_count": 46,
   "metadata": {},
   "outputs": [
    {
     "data": {
      "text/plain": [
       "array([71, 46, 26, 16, 77, 10, 16, 48, 52, 15])"
      ]
     },
     "execution_count": 46,
     "metadata": {},
     "output_type": "execute_result"
    }
   ],
   "source": [
    "array1[4:50:5]"
   ]
  },
  {
   "cell_type": "markdown",
   "metadata": {},
   "source": [
    "Crea un array 1D con 30 valores del 1 al 20 (ambos incluidos). Utiliza indexación para obtener los elementos en las posiciones impares."
   ]
  },
  {
   "cell_type": "code",
   "execution_count": 47,
   "metadata": {},
   "outputs": [
    {
     "data": {
      "text/plain": [
       "array([ 4, 14,  2,  3,  6,  1,  3, 11, 10, 14, 11, 13, 10,  1, 20, 19, 12,\n",
       "       11,  9, 14,  2,  4,  2, 16, 12,  7, 13,  2, 14, 12])"
      ]
     },
     "execution_count": 47,
     "metadata": {},
     "output_type": "execute_result"
    }
   ],
   "source": [
    "array2= np.random.randint(1, 21, size=30)\n",
    "array2"
   ]
  },
  {
   "cell_type": "code",
   "execution_count": 48,
   "metadata": {},
   "outputs": [
    {
     "data": {
      "text/plain": [
       "array([ 4,  2,  6,  3, 10, 11, 10, 20, 12,  9,  2,  2, 12, 13, 14])"
      ]
     },
     "execution_count": 48,
     "metadata": {},
     "output_type": "execute_result"
    }
   ],
   "source": [
    "array2[::2]"
   ]
  },
  {
   "cell_type": "markdown",
   "metadata": {},
   "source": [
    "Crea un array 2D de forma (4, 6) con números aleatorios decimales (no deben estar comprendidos solo entre 0 y 1). Accede a la última fila de la matriz. Los decimales deben estar redondeados a 2 decimales."
   ]
  },
  {
   "cell_type": "code",
   "execution_count": 70,
   "metadata": {},
   "outputs": [
    {
     "data": {
      "text/plain": [
       "array([[9.81, 1.48, 7.96, 9.52, 9.6 , 1.62],\n",
       "       [7.96, 3.97, 9.45, 1.16, 5.96, 5.51],\n",
       "       [2.71, 8.68, 6.6 , 8.47, 1.01, 1.76],\n",
       "       [3.18, 6.11, 5.74, 8.15, 7.87, 8.75]])"
      ]
     },
     "execution_count": 70,
     "metadata": {},
     "output_type": "execute_result"
    }
   ],
   "source": [
    "array3= np.random.uniform(1,10,(4,6)).round(2)\n",
    "array3"
   ]
  },
  {
   "cell_type": "code",
   "execution_count": 71,
   "metadata": {},
   "outputs": [
    {
     "data": {
      "text/plain": [
       "array([3.18, 6.11, 5.74, 8.15, 7.87, 8.75])"
      ]
     },
     "execution_count": 71,
     "metadata": {},
     "output_type": "execute_result"
    }
   ],
   "source": [
    "array3[3]"
   ]
  },
  {
   "cell_type": "markdown",
   "metadata": {},
   "source": [
    "Crea un array NumPy 2D de forma (6, 4) con valores decimales entre 0 y 1. Accede a la segunda columna de la matriz. Los números deben estar redondeados a 2 decimales."
   ]
  },
  {
   "cell_type": "code",
   "execution_count": 73,
   "metadata": {},
   "outputs": [
    {
     "data": {
      "text/plain": [
       "array([[0.78, 0.71, 0.99, 0.86],\n",
       "       [0.82, 0.05, 0.14, 0.85],\n",
       "       [0.2 , 0.44, 0.39, 0.69],\n",
       "       [0.29, 0.08, 0.79, 0.11],\n",
       "       [0.69, 0.88, 0.26, 0.93],\n",
       "       [0.76, 0.43, 0.46, 0.44]])"
      ]
     },
     "execution_count": 73,
     "metadata": {},
     "output_type": "execute_result"
    }
   ],
   "source": [
    "array4= np.random.rand(6,4).round(2)\n",
    "array4"
   ]
  },
  {
   "cell_type": "markdown",
   "metadata": {},
   "source": [
    "Crea un array 1D con 30 valores enteros aleatorios entre -50 y 50. Extrae los valores negativos."
   ]
  },
  {
   "cell_type": "code",
   "execution_count": 75,
   "metadata": {},
   "outputs": [
    {
     "data": {
      "text/plain": [
       "array([-48,  16,  19,  41, -16,  -9,  -3, -13,  34,   1,  13,   4,  14,\n",
       "       -39,  16,  14,  33, -44,  41, -22, -43,  35,  11, -30,  25, -22,\n",
       "         9, -50, -39,  14])"
      ]
     },
     "execution_count": 75,
     "metadata": {},
     "output_type": "execute_result"
    }
   ],
   "source": [
    "array5= np.random.randint(-50, 50, size=30)\n",
    "array5"
   ]
  },
  {
   "cell_type": "code",
   "execution_count": 78,
   "metadata": {},
   "outputs": [
    {
     "data": {
      "text/plain": [
       "array([-48, -16,  -9,  -3, -13, -39, -44, -22, -43, -30, -22, -50, -39])"
      ]
     },
     "execution_count": 78,
     "metadata": {},
     "output_type": "execute_result"
    }
   ],
   "source": [
    "array5[array5<0]"
   ]
  },
  {
   "cell_type": "markdown",
   "metadata": {},
   "source": [
    "Crea un array 1D con 10 valores entre 0 y 1. Redondea los decimales a 2. Obtén los elementos cuyo valor es mayor que 0.5. ¿En que posición/es están esos elementos?"
   ]
  },
  {
   "cell_type": "code",
   "execution_count": 99,
   "metadata": {},
   "outputs": [
    {
     "data": {
      "text/plain": [
       "array([0.27, 0.51, 0.42, 0.69, 0.93, 0.62, 0.76, 0.25, 0.76, 0.71])"
      ]
     },
     "execution_count": 99,
     "metadata": {},
     "output_type": "execute_result"
    }
   ],
   "source": [
    "array6= np.random.rand(10).round(2)\n",
    "array6"
   ]
  },
  {
   "cell_type": "code",
   "execution_count": 107,
   "metadata": {},
   "outputs": [],
   "source": [
    "mayores=array6[array6>0.5]"
   ]
  },
  {
   "cell_type": "code",
   "execution_count": 111,
   "metadata": {},
   "outputs": [
    {
     "data": {
      "text/plain": [
       "array([0.51, 0.69, 0.93, 0.62, 0.76, 0.76, 0.71])"
      ]
     },
     "execution_count": 111,
     "metadata": {},
     "output_type": "execute_result"
    }
   ],
   "source": [
    "mayores"
   ]
  },
  {
   "cell_type": "code",
   "execution_count": 117,
   "metadata": {},
   "outputs": [
    {
     "data": {
      "text/plain": [
       "array([1, 3, 4, 5, 6, 8, 9])"
      ]
     },
     "execution_count": 117,
     "metadata": {},
     "output_type": "execute_result"
    }
   ],
   "source": [
    "index = np.where(array6 > 0.5)[0]\n",
    "index"
   ]
  },
  {
   "cell_type": "code",
   "execution_count": 108,
   "metadata": {},
   "outputs": [
    {
     "name": "stderr",
     "output_type": "stream",
     "text": [
      "/tmp/ipykernel_337/919921901.py:1: DeprecationWarning: elementwise comparison failed; this will raise an error in the future.\n",
      "  index = np.where(array6 == mayores)\n"
     ]
    },
    {
     "data": {
      "text/plain": [
       "(array([], dtype=int64),)"
      ]
     },
     "execution_count": 108,
     "metadata": {},
     "output_type": "execute_result"
    }
   ],
   "source": [
    "index = np.where(array6 == mayores)\n",
    "index"
   ]
  },
  {
   "cell_type": "markdown",
   "metadata": {},
   "source": [
    "Crea un array 1D con 40 valores del 1 al 100 (ambos incluidos). Obtén los elementos que son divisibles por 3 y por 4."
   ]
  },
  {
   "cell_type": "code",
   "execution_count": 120,
   "metadata": {},
   "outputs": [
    {
     "data": {
      "text/plain": [
       "array([72, 93, 80, 80,  1, 95, 59, 83, 44, 81, 14, 14, 24, 62, 19, 91, 16,\n",
       "       65, 51, 33, 78, 46, 17, 42, 88, 83, 77, 43, 51, 90,  5, 81, 78, 78,\n",
       "        4, 59,  4,  6, 52, 54])"
      ]
     },
     "execution_count": 120,
     "metadata": {},
     "output_type": "execute_result"
    }
   ],
   "source": [
    "array7= np.random.randint(1, 100, (40))\n",
    "array7"
   ]
  },
  {
   "cell_type": "code",
   "execution_count": 123,
   "metadata": {},
   "outputs": [
    {
     "data": {
      "text/plain": [
       "array([[[0.32, 0.56, 0.57, ..., 0.79, 0.59, 0.75],\n",
       "        [1.  , 0.79, 0.54, ..., 0.57, 0.45, 0.99],\n",
       "        [0.84, 0.03, 0.13, ..., 0.87, 0.31, 0.31],\n",
       "        ...,\n",
       "        [0.2 , 0.16, 0.85, ..., 0.41, 0.93, 0.22],\n",
       "        [0.35, 0.97, 0.26, ..., 0.33, 0.99, 0.23],\n",
       "        [0.08, 0.05, 0.99, ..., 0.8 , 0.77, 0.83]]])"
      ]
     },
     "execution_count": 123,
     "metadata": {},
     "output_type": "execute_result"
    }
   ],
   "source": [
    "array8= np.random.rand(1, 100, (40)).round(2)\n",
    "array8"
   ]
  },
  {
   "cell_type": "code",
   "execution_count": 131,
   "metadata": {},
   "outputs": [
    {
     "data": {
      "text/plain": [
       "array([45.64, 89.52, 40.48, 24.68, 44.56, 31.42, 22.38, 53.35, 29.37,\n",
       "       95.56, 90.97,  1.25, 42.22, 79.62, 72.68, 11.26, 30.65, 78.43,\n",
       "       49.7 ,  7.57, 74.38, 60.96, 89.64,  5.83, 70.82, 60.3 , 56.21,\n",
       "       57.01, 43.69, 79.43, 55.55,  7.93, 21.42, 25.06, 48.83, 73.76,\n",
       "       35.79, 34.28,  9.17, 45.99])"
      ]
     },
     "execution_count": 131,
     "metadata": {},
     "output_type": "execute_result"
    }
   ],
   "source": [
    "array9= np.random.uniform(1, 101, (40)).round(2)\n",
    "array9"
   ]
  },
  {
   "cell_type": "code",
   "execution_count": 132,
   "metadata": {},
   "outputs": [
    {
     "data": {
      "text/plain": [
       "array([], dtype=float64)"
      ]
     },
     "execution_count": 132,
     "metadata": {},
     "output_type": "execute_result"
    }
   ],
   "source": [
    "array9[(array9 % 3 ==0)&(array9 % 4 ==0)]"
   ]
  },
  {
   "cell_type": "markdown",
   "metadata": {},
   "source": [
    "\n",
    "BONUS: Crea un array 3D de forma (2, 3, 5) y 50 elementos con números enteros entre 0 y 100 (ambos incluidos). Reemplaza los elementos en posiciones múltiplos de 3 por 0."
   ]
  },
  {
   "cell_type": "code",
   "execution_count": 136,
   "metadata": {},
   "outputs": [
    {
     "data": {
      "text/plain": [
       "array([[[57,  5, 47, 19, 61],\n",
       "        [51, 15, 55, 12,  3],\n",
       "        [ 6, 28, 81, 94, 67]],\n",
       "\n",
       "       [[72,  1, 89, 77, 29],\n",
       "        [63, 78,  2, 96, 44],\n",
       "        [54, 85, 66, 15, 94]]])"
      ]
     },
     "execution_count": 136,
     "metadata": {},
     "output_type": "execute_result"
    }
   ],
   "source": [
    "array10 = np.random.randint(1, 101, (2,3,5))\n",
    "array10"
   ]
  },
  {
   "cell_type": "code",
   "execution_count": null,
   "metadata": {},
   "outputs": [],
   "source": [
    "array11 = np.random.randint(0, 101, size=(2, 3, 5))"
   ]
  },
  {
   "cell_type": "code",
   "execution_count": 138,
   "metadata": {},
   "outputs": [
    {
     "ename": "ValueError",
     "evalue": "cannot reshape array of size 2 into shape (2,3,5)",
     "output_type": "error",
     "traceback": [
      "\u001b[0;31m---------------------------------------------------------------------------\u001b[0m",
      "\u001b[0;31mValueError\u001b[0m                                Traceback (most recent call last)",
      "Cell \u001b[0;32mIn[138], line 1\u001b[0m\n\u001b[0;32m----> 1\u001b[0m array11\u001b[38;5;241m=\u001b[39m\u001b[43mnp\u001b[49m\u001b[38;5;241;43m.\u001b[39;49m\u001b[43marange\u001b[49m\u001b[43m(\u001b[49m\u001b[38;5;241;43m1\u001b[39;49m\u001b[43m,\u001b[49m\u001b[38;5;241;43m101\u001b[39;49m\u001b[43m,\u001b[49m\u001b[43m(\u001b[49m\u001b[38;5;241;43m50\u001b[39;49m\u001b[43m)\u001b[49m\u001b[43m)\u001b[49m\u001b[38;5;241;43m.\u001b[39;49m\u001b[43mreshape\u001b[49m\u001b[43m(\u001b[49m\u001b[38;5;241;43m2\u001b[39;49m\u001b[43m,\u001b[49m\u001b[38;5;241;43m3\u001b[39;49m\u001b[43m,\u001b[49m\u001b[38;5;241;43m5\u001b[39;49m\u001b[43m)\u001b[49m\n\u001b[1;32m      2\u001b[0m array11\n",
      "\u001b[0;31mValueError\u001b[0m: cannot reshape array of size 2 into shape (2,3,5)"
     ]
    }
   ],
   "source": [
    "array11=np.arange(1,101,(50)).reshape(2,3,5)\n",
    "array11"
   ]
  },
  {
   "cell_type": "markdown",
   "metadata": {},
   "source": [
    "Crea un array 3D de forma (2, 3, 4) con valores aleatorios entre 1 y 100 (ambos inclusive). \n",
    "Utiliza reshape para convertirlo en un array 2D. Deberás pensar en la forma que es correcta para hacer este cambio.\n"
   ]
  },
  {
   "cell_type": "code",
   "execution_count": 146,
   "metadata": {},
   "outputs": [
    {
     "data": {
      "text/plain": [
       "array([[[58, 26, 25, 18],\n",
       "        [31, 15, 38, 28],\n",
       "        [45, 18,  7, 16]],\n",
       "\n",
       "       [[78, 74, 85, 14],\n",
       "        [78, 66, 31, 60],\n",
       "        [23, 57, 39, 45]]])"
      ]
     },
     "execution_count": 146,
     "metadata": {},
     "output_type": "execute_result"
    }
   ],
   "source": [
    "array_3D = np.random.randint(1, 101, (2,3,4))\n",
    "array_3D"
   ]
  },
  {
   "cell_type": "code",
   "execution_count": 147,
   "metadata": {},
   "outputs": [
    {
     "data": {
      "text/plain": [
       "array([[58, 26, 25, 18],\n",
       "       [31, 15, 38, 28],\n",
       "       [45, 18,  7, 16],\n",
       "       [78, 74, 85, 14],\n",
       "       [78, 66, 31, 60],\n",
       "       [23, 57, 39, 45]])"
      ]
     },
     "execution_count": 147,
     "metadata": {},
     "output_type": "execute_result"
    }
   ],
   "source": [
    "array_2d = array_3D.reshape(-1, 4)\n",
    "array_2d"
   ]
  },
  {
   "cell_type": "markdown",
   "metadata": {},
   "source": [
    "Crea un array 3D de forma (3, 4, 5) con valores enteros del 1 al 60 (sin incluir). Utiliza reshape para convertirlo en un array 2D."
   ]
  },
  {
   "cell_type": "code",
   "execution_count": 153,
   "metadata": {},
   "outputs": [
    {
     "data": {
      "text/plain": [
       "array([[[40, 58, 37, 39, 40],\n",
       "        [17, 30, 14, 45, 41],\n",
       "        [11, 12, 41,  4, 53],\n",
       "        [57, 23, 42, 17, 25]],\n",
       "\n",
       "       [[ 5, 35, 43, 55, 17],\n",
       "        [24, 55, 53, 58, 45],\n",
       "        [13,  7, 35, 13, 21],\n",
       "        [33, 12, 26, 54, 24]],\n",
       "\n",
       "       [[25, 30, 57, 17, 47],\n",
       "        [ 7,  8,  8, 16, 56],\n",
       "        [23, 29,  3,  3, 31],\n",
       "        [58,  4, 21, 32,  5]]])"
      ]
     },
     "execution_count": 153,
     "metadata": {},
     "output_type": "execute_result"
    }
   ],
   "source": [
    "array_ = np.random.randint(2, 60, (3,4,5))\n",
    "array_"
   ]
  },
  {
   "cell_type": "code",
   "execution_count": 159,
   "metadata": {},
   "outputs": [
    {
     "data": {
      "text/plain": [
       "array([[40, 58, 37, 39, 40],\n",
       "       [17, 30, 14, 45, 41],\n",
       "       [11, 12, 41,  4, 53],\n",
       "       [57, 23, 42, 17, 25],\n",
       "       [ 5, 35, 43, 55, 17],\n",
       "       [24, 55, 53, 58, 45],\n",
       "       [13,  7, 35, 13, 21],\n",
       "       [33, 12, 26, 54, 24],\n",
       "       [25, 30, 57, 17, 47],\n",
       "       [ 7,  8,  8, 16, 56],\n",
       "       [23, 29,  3,  3, 31],\n",
       "       [58,  4, 21, 32,  5]])"
      ]
     },
     "execution_count": 159,
     "metadata": {},
     "output_type": "execute_result"
    }
   ],
   "source": [
    "array_2 = array_.reshape(-10, 5)\n",
    "array_2"
   ]
  },
  {
   "cell_type": "markdown",
   "metadata": {},
   "source": [
    "\n",
    "Crea un array 3D de forma (4, 3, 2) con valores aleatorios entre 0 y 1. Utiliza reshape para convertirlo en un array 2D."
   ]
  },
  {
   "cell_type": "code",
   "execution_count": 161,
   "metadata": {},
   "outputs": [
    {
     "data": {
      "text/plain": [
       "array([[[0.21495822, 0.85369961],\n",
       "        [0.62910654, 0.36977428],\n",
       "        [0.18200535, 0.93589959]],\n",
       "\n",
       "       [[0.52262135, 0.51034077],\n",
       "        [0.40182115, 0.11998769],\n",
       "        [0.30927249, 0.1742036 ]],\n",
       "\n",
       "       [[0.67895191, 0.42788189],\n",
       "        [0.61915539, 0.54451934],\n",
       "        [0.17573524, 0.79921625]],\n",
       "\n",
       "       [[0.26048733, 0.18922853],\n",
       "        [0.51024543, 0.46522255],\n",
       "        [0.57797136, 0.3846472 ]]])"
      ]
     },
     "execution_count": 161,
     "metadata": {},
     "output_type": "execute_result"
    }
   ],
   "source": [
    "arr= np.random.rand(4, 3, 2)\n",
    "arr"
   ]
  },
  {
   "cell_type": "code",
   "execution_count": 162,
   "metadata": {},
   "outputs": [
    {
     "data": {
      "text/plain": [
       "array([[0.21495822, 0.85369961],\n",
       "       [0.62910654, 0.36977428],\n",
       "       [0.18200535, 0.93589959],\n",
       "       [0.52262135, 0.51034077],\n",
       "       [0.40182115, 0.11998769],\n",
       "       [0.30927249, 0.1742036 ],\n",
       "       [0.67895191, 0.42788189],\n",
       "       [0.61915539, 0.54451934],\n",
       "       [0.17573524, 0.79921625],\n",
       "       [0.26048733, 0.18922853],\n",
       "       [0.51024543, 0.46522255],\n",
       "       [0.57797136, 0.3846472 ]])"
      ]
     },
     "execution_count": 162,
     "metadata": {},
     "output_type": "execute_result"
    }
   ],
   "source": [
    "arra = arr.reshape(-10, 2)\n",
    "arra"
   ]
  },
  {
   "cell_type": "markdown",
   "metadata": {},
   "source": [
    "Ejercicios con transpose:\n",
    "Utiliza el array 3D del ejercicio 2 de reshape. Utiliza transpose para permutar los ejes y obtener un nuevo array con forma (5, 4, 3)."
   ]
  },
  {
   "cell_type": "code",
   "execution_count": 163,
   "metadata": {},
   "outputs": [
    {
     "data": {
      "text/plain": [
       "array([[[12, 44, 13, 34, 58],\n",
       "        [27, 58,  4,  5,  3],\n",
       "        [37, 10, 30, 43,  3],\n",
       "        [31, 41, 25,  5, 52]],\n",
       "\n",
       "       [[ 4, 35, 15, 14, 29],\n",
       "        [32, 12, 25, 50, 23],\n",
       "        [42, 14, 45, 24, 56],\n",
       "        [56, 48, 51,  8, 47]],\n",
       "\n",
       "       [[49, 14, 29, 57, 42],\n",
       "        [13, 16, 11, 52,  2],\n",
       "        [19, 12, 13, 49, 20],\n",
       "        [31, 48, 55, 42, 59]]])"
      ]
     },
     "execution_count": 163,
     "metadata": {},
     "output_type": "execute_result"
    }
   ],
   "source": [
    "array_ = np.random.randint(2, 60, (3,4,5))\n",
    "array_"
   ]
  },
  {
   "cell_type": "code",
   "execution_count": 165,
   "metadata": {},
   "outputs": [
    {
     "data": {
      "text/plain": [
       "array([[[12,  4, 49],\n",
       "        [27, 32, 13],\n",
       "        [37, 42, 19],\n",
       "        [31, 56, 31]],\n",
       "\n",
       "       [[44, 35, 14],\n",
       "        [58, 12, 16],\n",
       "        [10, 14, 12],\n",
       "        [41, 48, 48]],\n",
       "\n",
       "       [[13, 15, 29],\n",
       "        [ 4, 25, 11],\n",
       "        [30, 45, 13],\n",
       "        [25, 51, 55]],\n",
       "\n",
       "       [[34, 14, 57],\n",
       "        [ 5, 50, 52],\n",
       "        [43, 24, 49],\n",
       "        [ 5,  8, 42]],\n",
       "\n",
       "       [[58, 29, 42],\n",
       "        [ 3, 23,  2],\n",
       "        [ 3, 56, 20],\n",
       "        [52, 47, 59]]])"
      ]
     },
     "execution_count": 165,
     "metadata": {},
     "output_type": "execute_result"
    }
   ],
   "source": [
    "transponer=np.transpose(array_)#(5,4,3)\n",
    "transponer"
   ]
  },
  {
   "cell_type": "markdown",
   "metadata": {},
   "source": [
    "\n",
    "Utiliza el array 3D del ejercicio 3 de reshape. Utiliza transpose para cambiar el orden de los ejes y obtener un nuevo array con forma (3, 2, 4)."
   ]
  },
  {
   "cell_type": "code",
   "execution_count": 166,
   "metadata": {},
   "outputs": [
    {
     "data": {
      "text/plain": [
       "array([[[0.00194194, 0.54447809],\n",
       "        [0.06603692, 0.27401333],\n",
       "        [0.54906457, 0.21673869]],\n",
       "\n",
       "       [[0.40526172, 0.72554155],\n",
       "        [0.97831753, 0.30867888],\n",
       "        [0.71877632, 0.4842085 ]],\n",
       "\n",
       "       [[0.26581326, 0.45414021],\n",
       "        [0.24502485, 0.78698498],\n",
       "        [0.93051735, 0.997849  ]],\n",
       "\n",
       "       [[0.96995519, 0.22988931],\n",
       "        [0.4389974 , 0.23360087],\n",
       "        [0.61869345, 0.46360999]]])"
      ]
     },
     "execution_count": 166,
     "metadata": {},
     "output_type": "execute_result"
    }
   ],
   "source": [
    "arr= np.random.rand(4, 3, 2) #indices (0,1,2)\n",
    "arr"
   ]
  },
  {
   "cell_type": "code",
   "execution_count": 168,
   "metadata": {},
   "outputs": [
    {
     "data": {
      "text/plain": [
       "array([[[0.00194194, 0.40526172, 0.26581326, 0.96995519],\n",
       "        [0.54447809, 0.72554155, 0.45414021, 0.22988931]],\n",
       "\n",
       "       [[0.06603692, 0.97831753, 0.24502485, 0.4389974 ],\n",
       "        [0.27401333, 0.30867888, 0.78698498, 0.23360087]],\n",
       "\n",
       "       [[0.54906457, 0.71877632, 0.93051735, 0.61869345],\n",
       "        [0.21673869, 0.4842085 , 0.997849  , 0.46360999]]])"
      ]
     },
     "execution_count": 168,
     "metadata": {},
     "output_type": "execute_result"
    }
   ],
   "source": [
    "trans=np.transpose(arr,(1, 2, 0)) #(3, 2, 4) \n",
    "trans"
   ]
  },
  {
   "cell_type": "markdown",
   "metadata": {},
   "source": [
    "## Funciones Aritméticas y Estadísticas:\n",
    "Crea un array de tres 3D con elementos entre el 0 y 1 de forma (2, 3, 5) cuyos valores solo tengan 1 decimal."
   ]
  },
  {
   "cell_type": "markdown",
   "metadata": {},
   "source": [
    "\n",
    "Crea un array vacío con la misma forma y dimensiones que el array creado anteriormente. Vamos a reemplazar los valores de la matriz vacía que nos acabamos de crear pero basándonos en los valores del primer array bajo las siguientes condiciones:\n",
    "\n",
    "Si el valor del array es igual que la media, se reemplaza por \"A\".\n",
    "\n",
    "Si el valor del array es mayor que la media, se reemplaza por \"B\".\n",
    "\n",
    "Si el valor del array es menor que la media, se reemplaza por \"C\".\n",
    "\n",
    "Si el valor es igual que el máximo, se reemplaza por \"D\".\n",
    "\n",
    "Si el valor es igual que el mínimo, se reemplaza por \"E\"."
   ]
  },
  {
   "cell_type": "code",
   "execution_count": 28,
   "metadata": {},
   "outputs": [
    {
     "data": {
      "text/plain": [
       "array([[[0.2, 0.2, 1. , 0.8, 0.1],\n",
       "        [0.1, 1. , 0.1, 0.5, 0.4],\n",
       "        [0. , 0.6, 1. , 0. , 0.2]],\n",
       "\n",
       "       [[0.8, 0.8, 0.5, 0.8, 0.5],\n",
       "        [0.5, 0.5, 0. , 1. , 0.8],\n",
       "        [0.8, 0.2, 0.6, 0.8, 0. ]]])"
      ]
     },
     "execution_count": 28,
     "metadata": {},
     "output_type": "execute_result"
    }
   ],
   "source": [
    "arr=np.random.random_sample((2,3,5)).round(1)\n",
    "arr"
   ]
  },
  {
   "cell_type": "code",
   "execution_count": 29,
   "metadata": {},
   "outputs": [
    {
     "data": {
      "text/plain": [
       "0.4933333333333334"
      ]
     },
     "execution_count": 29,
     "metadata": {},
     "output_type": "execute_result"
    }
   ],
   "source": [
    "media= np.mean (arr)\n",
    "media"
   ]
  },
  {
   "cell_type": "code",
   "execution_count": 30,
   "metadata": {},
   "outputs": [
    {
     "data": {
      "text/plain": [
       "1.0"
      ]
     },
     "execution_count": 30,
     "metadata": {},
     "output_type": "execute_result"
    }
   ],
   "source": [
    "max= np.max (arr)\n",
    "max"
   ]
  },
  {
   "cell_type": "code",
   "execution_count": 31,
   "metadata": {},
   "outputs": [
    {
     "data": {
      "text/plain": [
       "0.0"
      ]
     },
     "execution_count": 31,
     "metadata": {},
     "output_type": "execute_result"
    }
   ],
   "source": [
    "min= np.min (arr)\n",
    "min"
   ]
  },
  {
   "cell_type": "code",
   "execution_count": 32,
   "metadata": {},
   "outputs": [
    {
     "data": {
      "text/plain": [
       "False"
      ]
     },
     "execution_count": 32,
     "metadata": {},
     "output_type": "execute_result"
    }
   ],
   "source": [
    "#Accedemos a la primera matriz, primera fila, primer elemento\n",
    "arr[0][0][0] > media"
   ]
  },
  {
   "cell_type": "code",
   "execution_count": 33,
   "metadata": {},
   "outputs": [
    {
     "data": {
      "text/plain": [
       "(2, 3, 5)"
      ]
     },
     "execution_count": 33,
     "metadata": {},
     "output_type": "execute_result"
    }
   ],
   "source": [
    "#forma del arr\n",
    "arr.shape"
   ]
  },
  {
   "cell_type": "code",
   "execution_count": 34,
   "metadata": {},
   "outputs": [
    {
     "data": {
      "text/plain": [
       "True"
      ]
     },
     "execution_count": 34,
     "metadata": {},
     "output_type": "execute_result"
    }
   ],
   "source": [
    "#Tenemos que ver todas las posiciones del arr\n",
    "arr[0][0][3] > media"
   ]
  },
  {
   "cell_type": "code",
   "execution_count": 55,
   "metadata": {},
   "outputs": [
    {
     "data": {
      "text/plain": [
       "array([[['', '', '', '', ''],\n",
       "        ['', '', '', '', ''],\n",
       "        ['', '', '', '', '']],\n",
       "\n",
       "       [['', '', '', '', ''],\n",
       "        ['', '', '', '', ''],\n",
       "        ['', '', '', '', '']]], dtype='<U1')"
      ]
     },
     "execution_count": 55,
     "metadata": {},
     "output_type": "execute_result"
    }
   ],
   "source": [
    "#Tenemos que convertir el array en letras, OJO! solo admite un valor\n",
    "#Array vacio con la misma forma de (arr) y con un tipo de dato str\n",
    "vacio=np.empty_like(arr,dtype=str)\n",
    "vacio"
   ]
  },
  {
   "cell_type": "code",
   "execution_count": 36,
   "metadata": {},
   "outputs": [
    {
     "name": "stdout",
     "output_type": "stream",
     "text": [
      "[[0.2 0.2 1.  0.8 0.1]\n",
      " [0.1 1.  0.1 0.5 0.4]\n",
      " [0.  0.6 1.  0.  0.2]]\n",
      "[[0.8 0.8 0.5 0.8 0.5]\n",
      " [0.5 0.5 0.  1.  0.8]\n",
      " [0.8 0.2 0.6 0.8 0. ]]\n"
     ]
    }
   ],
   "source": [
    "for matriz in range (2):\n",
    "    print(arr[matriz])"
   ]
  },
  {
   "cell_type": "code",
   "execution_count": 52,
   "metadata": {},
   "outputs": [
    {
     "name": "stdout",
     "output_type": "stream",
     "text": [
      "0.2\n",
      "----------\n",
      "0.2\n",
      "----------\n",
      "1.0\n",
      "----------\n",
      "0.8\n",
      "----------\n",
      "0.1\n",
      "----------\n",
      "0.1\n",
      "----------\n",
      "1.0\n",
      "----------\n",
      "0.1\n",
      "----------\n",
      "0.5\n",
      "----------\n",
      "0.4\n",
      "----------\n",
      "0.0\n",
      "----------\n",
      "0.6\n",
      "----------\n",
      "1.0\n",
      "----------\n",
      "0.0\n",
      "----------\n",
      "0.2\n",
      "----------\n",
      "0.8\n",
      "----------\n",
      "0.8\n",
      "----------\n",
      "0.5\n",
      "----------\n",
      "0.8\n",
      "----------\n",
      "0.5\n",
      "----------\n",
      "0.5\n",
      "----------\n",
      "0.5\n",
      "----------\n",
      "0.0\n",
      "----------\n",
      "1.0\n",
      "----------\n",
      "0.8\n",
      "----------\n",
      "0.8\n",
      "----------\n",
      "0.2\n",
      "----------\n",
      "0.6\n",
      "----------\n",
      "0.8\n",
      "----------\n",
      "0.0\n",
      "----------\n"
     ]
    }
   ],
   "source": [
    "#para acceder a todos los elemntos podemos automatizarlo accediendo a los niveles del shape\n",
    "#vamos a generar los 3 indices\n",
    "for matriz in range (arr.shape[0]):\n",
    "    for fila in range (arr.shape[1]):\n",
    "        for col in range(arr.shape[2]):\n",
    "            print(arr[matriz][fila][col])\n",
    "            print('----------')"
   ]
  },
  {
   "cell_type": "code",
   "execution_count": 53,
   "metadata": {},
   "outputs": [],
   "source": [
    "for matriz in range (arr.shape[0]):\n",
    "    for fila in range (arr.shape[1]):\n",
    "        for col in range(arr.shape[2]):\n",
    "            if arr[matriz][fila][col]== max:\n",
    "                vacio[matriz][fila][col]=\"D\"\n",
    "            elif arr[matriz][fila][col]== min:\n",
    "                vacio[matriz][fila][col]=\"E\"\n",
    "            elif arr[matriz][fila][col]== media:\n",
    "                vacio[matriz][fila][col]=\"A\"\n",
    "            elif arr[matriz][fila][col]> media:\n",
    "                vacio[matriz][fila][col]=\"B\"\n",
    "            elif arr[matriz][fila][col]< media:\n",
    "                vacio[matriz][fila][col]=\"C\""
   ]
  },
  {
   "cell_type": "code",
   "execution_count": 54,
   "metadata": {},
   "outputs": [
    {
     "data": {
      "text/plain": [
       "array([[['C', 'C', 'D', 'B', 'C'],\n",
       "        ['C', 'D', 'C', 'B', 'C'],\n",
       "        ['E', 'B', 'D', 'E', 'C']],\n",
       "\n",
       "       [['B', 'B', 'B', 'B', 'B'],\n",
       "        ['B', 'B', 'E', 'D', 'B'],\n",
       "        ['B', 'C', 'B', 'B', 'E']]], dtype='<U1')"
      ]
     },
     "execution_count": 54,
     "metadata": {},
     "output_type": "execute_result"
    }
   ],
   "source": [
    "vacio"
   ]
  }
 ],
 "metadata": {
  "kernelspec": {
   "display_name": "Python 3 (ipykernel)",
   "language": "python",
   "name": "python3"
  },
  "language_info": {
   "codemirror_mode": {
    "name": "ipython",
    "version": 3
   },
   "file_extension": ".py",
   "mimetype": "text/x-python",
   "name": "python",
   "nbconvert_exporter": "python",
   "pygments_lexer": "ipython3",
   "version": "3.9.7"
  },
  "toc": {
   "base_numbering": 1,
   "nav_menu": {},
   "number_sections": true,
   "sideBar": true,
   "skip_h1_title": false,
   "title_cell": "Table of Contents",
   "title_sidebar": "Contents",
   "toc_cell": true,
   "toc_position": {
    "height": "calc(100% - 180px)",
    "left": "10px",
    "top": "150px",
    "width": "426.667px"
   },
   "toc_section_display": true,
   "toc_window_display": true
  }
 },
 "nbformat": 4,
 "nbformat_minor": 2
}
