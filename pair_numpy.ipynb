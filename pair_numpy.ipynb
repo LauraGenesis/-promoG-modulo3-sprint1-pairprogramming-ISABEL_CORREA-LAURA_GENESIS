{
 "cells": [
  {
   "cell_type": "markdown",
   "metadata": {
    "toc": true
   },
   "source": [
    "<h1>Table of Contents<span class=\"tocSkip\"></span></h1>\n",
    "<div class=\"toc\"><ul class=\"toc-item\"><li><span><a href=\"#Introducción\" data-toc-modified-id=\"Introducción-1\"><span class=\"toc-item-num\">1&nbsp;&nbsp;</span>Introducción</a></span></li><li><span><a href=\"#¿Qué-es-NumPy?\" data-toc-modified-id=\"¿Qué-es-NumPy?-2\"><span class=\"toc-item-num\">2&nbsp;&nbsp;</span>¿Qué es NumPy?</a></span></li><li><span><a href=\"#¿Qué-es-un-array?\" data-toc-modified-id=\"¿Qué-es-un-array?-3\"><span class=\"toc-item-num\">3&nbsp;&nbsp;</span>¿Qué es un <em>array</em>?</a></span></li><li><span><a href=\"#Creación-de-arrays\" data-toc-modified-id=\"Creación-de-arrays-4\"><span class=\"toc-item-num\">4&nbsp;&nbsp;</span>Creación de <em>arrays</em></a></span><ul class=\"toc-item\"><li><span><a href=\"#Crear-un-array-a-partir-de-una-lista\" data-toc-modified-id=\"Crear-un-array-a-partir-de-una-lista-4.1\"><span class=\"toc-item-num\">4.1&nbsp;&nbsp;</span>Crear un array a partir de una lista</a></span></li><li><span><a href=\"#Crear-un-array-vacío\" data-toc-modified-id=\"Crear-un-array-vacío-4.2\"><span class=\"toc-item-num\">4.2&nbsp;&nbsp;</span>Crear un array vacío</a></span></li><li><span><a href=\"#Crear-un-array-de-ceros\" data-toc-modified-id=\"Crear-un-array-de-ceros-4.3\"><span class=\"toc-item-num\">4.3&nbsp;&nbsp;</span>Crear un array de ceros</a></span></li><li><span><a href=\"#Crear-un-array-de-unos\" data-toc-modified-id=\"Crear-un-array-de-unos-4.4\"><span class=\"toc-item-num\">4.4&nbsp;&nbsp;</span>Crear un array de unos</a></span></li><li><span><a href=\"#Crear-un-array-con-valores-secuenciales\" data-toc-modified-id=\"Crear-un-array-con-valores-secuenciales-4.5\"><span class=\"toc-item-num\">4.5&nbsp;&nbsp;</span>Crear un array con valores secuenciales</a></span></li><li><span><a href=\"#Crear-un-array-usando-random\" data-toc-modified-id=\"Crear-un-array-usando-random-4.6\"><span class=\"toc-item-num\">4.6&nbsp;&nbsp;</span>Crear un array usando random</a></span><ul class=\"toc-item\"><li><span><a href=\"#np.random.randint\" data-toc-modified-id=\"np.random.randint-4.6.1\"><span class=\"toc-item-num\">4.6.1&nbsp;&nbsp;</span>np.random.randint</a></span></li><li><span><a href=\"#np.random.rand\" data-toc-modified-id=\"np.random.rand-4.6.2\"><span class=\"toc-item-num\">4.6.2&nbsp;&nbsp;</span>np.random.rand</a></span></li><li><span><a href=\"#np.random.random_sample\" data-toc-modified-id=\"np.random.random_sample-4.6.3\"><span class=\"toc-item-num\">4.6.3&nbsp;&nbsp;</span>np.random.random_sample</a></span></li></ul></li></ul></li><li><span><a href=\"#Indexación\" data-toc-modified-id=\"Indexación-5\"><span class=\"toc-item-num\">5&nbsp;&nbsp;</span>Indexación</a></span><ul class=\"toc-item\"><li><span><a href=\"#Indexación-en-arrays-unidimensionales\" data-toc-modified-id=\"Indexación-en-arrays-unidimensionales-5.1\"><span class=\"toc-item-num\">5.1&nbsp;&nbsp;</span>Indexación en <em>arrays</em> unidimensionales</a></span></li><li><span><a href=\"#Indexación-en-arrays-bidimensionales\" data-toc-modified-id=\"Indexación-en-arrays-bidimensionales-5.2\"><span class=\"toc-item-num\">5.2&nbsp;&nbsp;</span>Indexación en <em>arrays</em> bidimensionales</a></span></li><li><span><a href=\"#Indexación-en-arrays-tridimensionales\" data-toc-modified-id=\"Indexación-en-arrays-tridimensionales-5.3\"><span class=\"toc-item-num\">5.3&nbsp;&nbsp;</span>Indexación en <em>arrays</em> tridimensionales</a></span></li></ul></li><li><span><a href=\"#Filtrado-de-datos-en-arrays\" data-toc-modified-id=\"Filtrado-de-datos-en-arrays-6\"><span class=\"toc-item-num\">6&nbsp;&nbsp;</span>Filtrado de datos en <em>arrays</em></a></span><ul class=\"toc-item\"><li><span><a href=\"#Filtrado-con-condiciones\" data-toc-modified-id=\"Filtrado-con-condiciones-6.1\"><span class=\"toc-item-num\">6.1&nbsp;&nbsp;</span>Filtrado con condiciones</a></span></li><li><span><a href=\"#Filtrado-con-np.where()\" data-toc-modified-id=\"Filtrado-con-np.where()-6.2\"><span class=\"toc-item-num\">6.2&nbsp;&nbsp;</span>Filtrado con <code>np.where()</code></a></span></li></ul></li><li><span><a href=\"#Operaciones-aritméticas-con-arrays\" data-toc-modified-id=\"Operaciones-aritméticas-con-arrays-7\"><span class=\"toc-item-num\">7&nbsp;&nbsp;</span>Operaciones aritméticas con <em>arrays</em></a></span></li><li><span><a href=\"#Funciones-universales-o-ufuncs\" data-toc-modified-id=\"Funciones-universales-o-ufuncs-8\"><span class=\"toc-item-num\">8&nbsp;&nbsp;</span>Funciones universales o <code>ufuncs</code></a></span><ul class=\"toc-item\"><li><span><a href=\"#Operaciones-estadísticas\" data-toc-modified-id=\"Operaciones-estadísticas-8.1\"><span class=\"toc-item-num\">8.1&nbsp;&nbsp;</span>Operaciones estadísticas</a></span><ul class=\"toc-item\"><li><span><a href=\"#np.mean()\" data-toc-modified-id=\"np.mean()-8.1.1\"><span class=\"toc-item-num\">8.1.1&nbsp;&nbsp;</span><code>np.mean()</code></a></span></li><li><span><a href=\"#np.var()\" data-toc-modified-id=\"np.var()-8.1.2\"><span class=\"toc-item-num\">8.1.2&nbsp;&nbsp;</span><code>np.var()</code></a></span></li><li><span><a href=\"#np.std()\" data-toc-modified-id=\"np.std()-8.1.3\"><span class=\"toc-item-num\">8.1.3&nbsp;&nbsp;</span><code>np.std()</code></a></span></li></ul></li><li><span><a href=\"#Operaciones-aritméticas\" data-toc-modified-id=\"Operaciones-aritméticas-8.2\"><span class=\"toc-item-num\">8.2&nbsp;&nbsp;</span>Operaciones aritméticas</a></span><ul class=\"toc-item\"><li><span><a href=\"#np.min()\" data-toc-modified-id=\"np.min()-8.2.1\"><span class=\"toc-item-num\">8.2.1&nbsp;&nbsp;</span><code>np.min()</code></a></span></li><li><span><a href=\"#np.max()\" data-toc-modified-id=\"np.max()-8.2.2\"><span class=\"toc-item-num\">8.2.2&nbsp;&nbsp;</span><code>np.max()</code></a></span></li><li><span><a href=\"#np.sum()\" data-toc-modified-id=\"np.sum()-8.2.3\"><span class=\"toc-item-num\">8.2.3&nbsp;&nbsp;</span><code>np.sum()</code></a></span></li></ul></li><li><span><a href=\"#Otros-métodos\" data-toc-modified-id=\"Otros-métodos-8.3\"><span class=\"toc-item-num\">8.3&nbsp;&nbsp;</span>Otros métodos</a></span><ul class=\"toc-item\"><li><span><a href=\"#np.sort()\" data-toc-modified-id=\"np.sort()-8.3.1\"><span class=\"toc-item-num\">8.3.1&nbsp;&nbsp;</span><code>np.sort()</code></a></span></li><li><span><a href=\"#np.transpose()\" data-toc-modified-id=\"np.transpose()-8.3.2\"><span class=\"toc-item-num\">8.3.2&nbsp;&nbsp;</span><code>np.transpose()</code></a></span><ul class=\"toc-item\"><li><span><a href=\"#Unidimensional\" data-toc-modified-id=\"Unidimensional-8.3.2.1\"><span class=\"toc-item-num\">8.3.2.1&nbsp;&nbsp;</span>Unidimensional</a></span></li><li><span><a href=\"#Bidimensional\" data-toc-modified-id=\"Bidimensional-8.3.2.2\"><span class=\"toc-item-num\">8.3.2.2&nbsp;&nbsp;</span>Bidimensional</a></span></li><li><span><a href=\"#Multidimensional\" data-toc-modified-id=\"Multidimensional-8.3.2.3\"><span class=\"toc-item-num\">8.3.2.3&nbsp;&nbsp;</span>Multidimensional</a></span></li></ul></li></ul></li><li><span><a href=\"#reshape():\" data-toc-modified-id=\"reshape():-8.4\"><span class=\"toc-item-num\">8.4&nbsp;&nbsp;</span><code>reshape()</code>:</a></span></li><li><span><a href=\"#np.swapaxes()\" data-toc-modified-id=\"np.swapaxes()-8.5\"><span class=\"toc-item-num\">8.5&nbsp;&nbsp;</span><code>np.swapaxes()</code></a></span></li></ul></li><li><span><a href=\"#Ejercicios\" data-toc-modified-id=\"Ejercicios-9\"><span class=\"toc-item-num\">9&nbsp;&nbsp;</span>Ejercicios</a></span></li></ul></div>"
   ]
  },
  {
   "cell_type": "markdown",
   "metadata": {},
   "source": [
    "\n",
    "# Introducción \n",
    "\n",
    "Hasta ahora, en el bootcamp, hemos cubierto los conceptos básicos de programación en el módulo 1 y hemos explorado el proceso de extracción de datos utilizando herramientas de web scraping en Python y SQL en el módulo 2. Ahora, es el momento de continuar con el flujo de trabajo de un analista de datos y adentrarnos en la transformación de los datos.\n",
    "\n",
    "\n",
    "En este módulo vamos a abordar un aspecto fundamental para cualquier analista de datos: la transformación de los datos. La transformación de datos es un proceso esencial en el campo del análisis de datos, ya que permite convertir los datos brutos en información procesable y significativa, es decir, nos permite convertir los datos sin procesar en una forma que sea más útil y significativa para nuestros análisis. A medida que avanzamos en este módulo, aprenderemos técnicas y herramientas para manipular, limpiar y estructurar los datos de manera eficiente. Una vez que hemos extraído los datos, es posible que nos encontremos con diversos desafíos, como datos duplicados, formatos inconsistentes, valores faltantes o incoherencias. La transformación de datos nos brinda la capacidad de abordar estos desafíos mediante la aplicación de técnicas de limpieza y normalización. Podremos eliminar duplicados, corregir errores, estandarizar formatos y completar valores faltantes para asegurarnos de que nuestros datos sean precisos y confiables. Además de la limpieza y normalización, la transformación de datos también implica la creación de nuevas variables o características derivadas que puedan ayudarnos a obtener una comprensión más profunda de los datos. Podemos aplicar funciones matemáticas, realizar cálculos estadísticos o combinar variables existentes para generar nuevas perspectivas y descubrir patrones ocultos en los datos.\n",
    "\n",
    "Al finalizar esta etapa de transformación, nuestros datos estarán preparados y listos para la etapa de análisis propiamente dicha. La transformación adecuada de los datos no solo garantiza la calidad y confiabilidad de nuestros resultados, sino que también nos permite extraer información valiosa y tomar decisiones basadas en datos con mayor precisión.\n"
   ]
  },
  {
   "cell_type": "markdown",
   "metadata": {},
   "source": [
    "# ¿Qué es NumPy?\n",
    "\n",
    "**NumPy**, que significa \"Numerical Python\" (Python Numérico), es una biblioteca de Python muy popular y poderosa utilizada principalmente para el procesamiento numérico y científico de datos. Proporciona soporte para matrices multidimensionales, junto con una amplia colección de funciones matemáticas para operar en estas matrices.\n",
    "\n",
    "La principal característica de **NumPy** es el objeto de matriz, llamado `array` o `ndarray` (abreviatura de \"n-dimensional array\" o \"matriz n-dimensional\"). Estas matrices son similares a las listas en Python, pero ofrecen muchas más capacidades y eficiencia para operaciones numéricas. Las matrices **NumPy** pueden tener hasta N dimensiones y **contienen elementos del mismo tipo de datos**, lo que permite un cálculo rápido y eficiente.\n",
    "\n",
    "Aquí hay algunas características clave de **NumPy**:\n",
    "\n",
    "1. **Funciones matemáticas eficientes**: NumPy proporciona una amplia gama de funciones matemáticas incorporadas, como trigonométricas, exponenciales, logarítmicas, algebraicas, estadísticas, entre otras. Estas funciones se pueden aplicar a matrices completas sin la necesidad de escribir bucles explícitos, lo que facilita y acelera el cálculo.\n",
    "\n",
    "2. **Operaciones vectorizadas**: Las operaciones vectorizadas son una forma eficiente de realizar cálculos en matrices sin necesidad de bucles. NumPy permite realizar operaciones matemáticas y lógicas directamente en matrices enteras, lo que resulta en un código más compacto y rápido.\n",
    "\n",
    "3. **Broadcasting**:  Es una poderosa funcionalidad de **NumPy** que permite realizar operaciones entre matrices de diferentes formas y tamaños. **NumPy** automáticamente ajusta las formas de las matrices para que sean compatibles y realiza las operaciones de manera eficiente.\n",
    "\n",
    "4. **Integración con otras bibliotecas**: **NumPy** se utiliza ampliamente en el ecosistema científico de Python y se integra con otras bibliotecas populares como SciPy (biblioteca para computación científica), Matplotlib (para visualización de datos) y Pandas (para análisis de datos).\n",
    "\n",
    "> **NumPy** es una biblioteca fundamental para el procesamiento numérico en Python. Su uso eficiente de memoria y sus operaciones vectorizadas hacen que sea una opción ideal para realizar cálculos numéricos y científicos, especialmente cuando se trabaja con grandes conjuntos de datos o se requiere un alto rendimiento computacional.\n",
    "\n",
    "\n",
    "📌 **NOTA** Antes de ponernos a trabajar con NumPy tendremos que instalar la librería, para eso lo que tendremos que hacer es escribir en la terminal la siguiente línea de código.\n",
    "```bash\n",
    "!pip install numpy\n",
    "```"
   ]
  },
  {
   "cell_type": "markdown",
   "metadata": {},
   "source": [
    "# ¿Qué es un *array*?\n",
    "\n",
    "Un *array*, también conocido como matriz o arreglo, es una estructura de datos que permite almacenar una colección de elementos del mismo tipo. Los *arrays* son utilizados para organizar y manipular conjuntos de datos de manera eficiente. En un *array*, los elementos están dispuestos en una secuencia ordenada y se accede a ellos mediante un índice. Al igual que hacíamos en listas, la indexación comienza en 0. \n",
    "\n",
    "Los *arrays* pueden tener una o varias dimensiones. Un *array* unidimensional se representa como una secuencia lineal de elementos, similar a una lista en Python. Por ejemplo:\n",
    "\n",
    "```\n",
    "[1, 2, 3, 4, 5]\n",
    "```\n",
    "\n",
    "Un array bidimensional se organiza en filas y columnas, formando una especie de tabla o matriz. Cada elemento en un *array* bidimensional se identifica mediante dos índices: uno para la fila y otro para la columna. Por ejemplo:\n",
    "\n",
    "```python\n",
    "[[1, 2, 3],\n",
    " [4, 5, 6],\n",
    " [7, 8, 9]]\n",
    "\n",
    "# si quisieras acceder al número 5 tendrías que elegir la fila 2 y la columna 2, como los índices en python empiezan en 0, los índices que tendrías que usar son: \n",
    "[1][1] # esto nos devolvería el valor 5. \n",
    "```\n",
    "\n",
    "Los *arrays* pueden tener más dimensiones, como los *arrays* tridimensionales, cuatridimensionales, y así sucesivamente. Estas estructuras de datos multidimensionales son útiles para representar y manipular datos más complejos, como imágenes, volúmenes de datos científicos, tensores en aprendizaje automático, entre otros, aspectos que nosotras no trabajaremos normalente como analistas."
   ]
  },
  {
   "cell_type": "markdown",
   "metadata": {},
   "source": [
    "# Creación de *arrays*\n",
    "\n",
    "NumPy permite crear *arrays* de distintas formas las más comunes son:\n",
    "\n",
    "1. **Crear un array a partir de una lista**: Puedes crear un *array* NumPy a partir de una lista utilizando la función `np.array()`.\n",
    "\n",
    "2. **Crear un array vacío**: Puedes crear un *array* vacío especificando la forma deseada utilizando la función `np.empty()`. Debemos tener en cuenta que los valores del array vacío pueden ser impredecibles, ya que toman los valores almacenados en la memoria en ese momento.\n",
    "\n",
    "3. **Crear un array de ceros**: Puedes crear un *array* con todos los elementos establecidos en cero utilizando la función `np.zeros()`. \n",
    "\n",
    "4. **Crear un array de unos**: Puedes crear un *array* con todos los elementos establecidos en uno utilizando la función `np.ones()`.\n",
    "\n",
    "5. **Crear un array con valores secuenciales**: Puedes crear un *array* con valores secuenciales utilizando la función `np.arange()`. \n",
    "\n",
    "6. **Crear un array usando random de NumPy**: Puedes crear un *array* con números aleatorios usando distintos métodos de `random` en NumPy\n"
   ]
  },
  {
   "cell_type": "markdown",
   "metadata": {},
   "source": [
    "## Crear un array a partir de una lista"
   ]
  },
  {
   "cell_type": "code",
   "execution_count": 3,
   "metadata": {},
   "outputs": [],
   "source": [
    "# antes de empezar importamos la librería de NumPy para poder trabajar con todos sus métodos. \n",
    "import numpy as np"
   ]
  },
  {
   "cell_type": "code",
   "execution_count": 4,
   "metadata": {},
   "outputs": [],
   "source": [
    "import matplotlib.pyplot as plt"
   ]
  },
  {
   "cell_type": "code",
   "execution_count": 3,
   "metadata": {},
   "outputs": [],
   "source": [
    "lista =[31,28,29,19]"
   ]
  },
  {
   "cell_type": "code",
   "execution_count": 4,
   "metadata": {},
   "outputs": [],
   "source": [
    "arr = np.array(lista)"
   ]
  },
  {
   "cell_type": "code",
   "execution_count": 5,
   "metadata": {},
   "outputs": [
    {
     "data": {
      "text/plain": [
       "array([31, 28, 29, 19])"
      ]
     },
     "execution_count": 5,
     "metadata": {},
     "output_type": "execute_result"
    }
   ],
   "source": [
    "arr"
   ]
  },
  {
   "cell_type": "code",
   "execution_count": null,
   "metadata": {},
   "outputs": [],
   "source": [
    "lista= [[2,4,5],[6,7,8],[2,1,3]]\n"
   ]
  },
  {
   "cell_type": "markdown",
   "metadata": {},
   "source": []
  },
  {
   "cell_type": "markdown",
   "metadata": {},
   "source": [
    "Crea un array 1D con 50 valores aleatorio del 10 al 99. Accede a los elementos en las posiciones múltiplos de 5."
   ]
  },
  {
   "cell_type": "code",
   "execution_count": 45,
   "metadata": {},
   "outputs": [
    {
     "data": {
      "text/plain": [
       "array([30, 92, 32, 22, 71, 85, 40, 97, 20, 46, 77, 42, 32, 57, 26, 93, 34,\n",
       "       37, 56, 16, 31, 27, 46, 29, 77, 24, 23, 57, 42, 10, 22, 37, 67, 96,\n",
       "       16, 97, 39, 87, 51, 48, 32, 38, 20, 42, 52, 47, 86, 49, 83, 15])"
      ]
     },
     "execution_count": 45,
     "metadata": {},
     "output_type": "execute_result"
    }
   ],
   "source": [
    "array1= np.random.randint(10, 100, size=50)\n",
    "array1"
   ]
  },
  {
   "cell_type": "code",
   "execution_count": 46,
   "metadata": {},
   "outputs": [
    {
     "data": {
      "text/plain": [
       "array([71, 46, 26, 16, 77, 10, 16, 48, 52, 15])"
      ]
     },
     "execution_count": 46,
     "metadata": {},
     "output_type": "execute_result"
    }
   ],
   "source": [
    "array1[4:50:5]"
   ]
  },
  {
   "cell_type": "markdown",
   "metadata": {},
   "source": [
    "Crea un array 1D con 30 valores del 1 al 20 (ambos incluidos). Utiliza indexación para obtener los elementos en las posiciones impares."
   ]
  },
  {
   "cell_type": "code",
   "execution_count": 47,
   "metadata": {},
   "outputs": [
    {
     "data": {
      "text/plain": [
       "array([ 4, 14,  2,  3,  6,  1,  3, 11, 10, 14, 11, 13, 10,  1, 20, 19, 12,\n",
       "       11,  9, 14,  2,  4,  2, 16, 12,  7, 13,  2, 14, 12])"
      ]
     },
     "execution_count": 47,
     "metadata": {},
     "output_type": "execute_result"
    }
   ],
   "source": [
    "array2= np.random.randint(1, 21, size=30)\n",
    "array2"
   ]
  },
  {
   "cell_type": "code",
   "execution_count": 48,
   "metadata": {},
   "outputs": [
    {
     "data": {
      "text/plain": [
       "array([ 4,  2,  6,  3, 10, 11, 10, 20, 12,  9,  2,  2, 12, 13, 14])"
      ]
     },
     "execution_count": 48,
     "metadata": {},
     "output_type": "execute_result"
    }
   ],
   "source": [
    "array2[::2]"
   ]
  },
  {
   "cell_type": "markdown",
   "metadata": {},
   "source": [
    "Crea un array 2D de forma (4, 6) con números aleatorios decimales (no deben estar comprendidos solo entre 0 y 1). Accede a la última fila de la matriz. Los decimales deben estar redondeados a 2 decimales."
   ]
  },
  {
   "cell_type": "code",
   "execution_count": 70,
   "metadata": {},
   "outputs": [
    {
     "data": {
      "text/plain": [
       "array([[9.81, 1.48, 7.96, 9.52, 9.6 , 1.62],\n",
       "       [7.96, 3.97, 9.45, 1.16, 5.96, 5.51],\n",
       "       [2.71, 8.68, 6.6 , 8.47, 1.01, 1.76],\n",
       "       [3.18, 6.11, 5.74, 8.15, 7.87, 8.75]])"
      ]
     },
     "execution_count": 70,
     "metadata": {},
     "output_type": "execute_result"
    }
   ],
   "source": [
    "array3= np.random.uniform(1,10,(4,6)).round(2)\n",
    "array3"
   ]
  },
  {
   "cell_type": "code",
   "execution_count": 71,
   "metadata": {},
   "outputs": [
    {
     "data": {
      "text/plain": [
       "array([3.18, 6.11, 5.74, 8.15, 7.87, 8.75])"
      ]
     },
     "execution_count": 71,
     "metadata": {},
     "output_type": "execute_result"
    }
   ],
   "source": [
    "array3[3]"
   ]
  },
  {
   "cell_type": "markdown",
   "metadata": {},
   "source": [
    "Crea un array NumPy 2D de forma (6, 4) con valores decimales entre 0 y 1. Accede a la segunda columna de la matriz. Los números deben estar redondeados a 2 decimales."
   ]
  },
  {
   "cell_type": "code",
   "execution_count": 73,
   "metadata": {},
   "outputs": [
    {
     "data": {
      "text/plain": [
       "array([[0.78, 0.71, 0.99, 0.86],\n",
       "       [0.82, 0.05, 0.14, 0.85],\n",
       "       [0.2 , 0.44, 0.39, 0.69],\n",
       "       [0.29, 0.08, 0.79, 0.11],\n",
       "       [0.69, 0.88, 0.26, 0.93],\n",
       "       [0.76, 0.43, 0.46, 0.44]])"
      ]
     },
     "execution_count": 73,
     "metadata": {},
     "output_type": "execute_result"
    }
   ],
   "source": [
    "array4= np.random.rand(6,4).round(2)\n",
    "array4"
   ]
  },
  {
   "cell_type": "markdown",
   "metadata": {},
   "source": [
    "Crea un array 1D con 30 valores enteros aleatorios entre -50 y 50. Extrae los valores negativos."
   ]
  },
  {
   "cell_type": "code",
   "execution_count": 75,
   "metadata": {},
   "outputs": [
    {
     "data": {
      "text/plain": [
       "array([-48,  16,  19,  41, -16,  -9,  -3, -13,  34,   1,  13,   4,  14,\n",
       "       -39,  16,  14,  33, -44,  41, -22, -43,  35,  11, -30,  25, -22,\n",
       "         9, -50, -39,  14])"
      ]
     },
     "execution_count": 75,
     "metadata": {},
     "output_type": "execute_result"
    }
   ],
   "source": [
    "array5= np.random.randint(-50, 50, size=30)\n",
    "array5"
   ]
  },
  {
   "cell_type": "code",
   "execution_count": 78,
   "metadata": {},
   "outputs": [
    {
     "data": {
      "text/plain": [
       "array([-48, -16,  -9,  -3, -13, -39, -44, -22, -43, -30, -22, -50, -39])"
      ]
     },
     "execution_count": 78,
     "metadata": {},
     "output_type": "execute_result"
    }
   ],
   "source": [
    "array5[array5<0]"
   ]
  },
  {
   "cell_type": "markdown",
   "metadata": {},
   "source": [
    "Crea un array 1D con 10 valores entre 0 y 1. Redondea los decimales a 2. Obtén los elementos cuyo valor es mayor que 0.5. ¿En que posición/es están esos elementos?"
   ]
  },
  {
   "cell_type": "code",
   "execution_count": 99,
   "metadata": {},
   "outputs": [
    {
     "data": {
      "text/plain": [
       "array([0.27, 0.51, 0.42, 0.69, 0.93, 0.62, 0.76, 0.25, 0.76, 0.71])"
      ]
     },
     "execution_count": 99,
     "metadata": {},
     "output_type": "execute_result"
    }
   ],
   "source": [
    "array6= np.random.rand(10).round(2)\n",
    "array6"
   ]
  },
  {
   "cell_type": "code",
   "execution_count": 107,
   "metadata": {},
   "outputs": [],
   "source": [
    "mayores=array6[array6>0.5]"
   ]
  },
  {
   "cell_type": "code",
   "execution_count": 111,
   "metadata": {},
   "outputs": [
    {
     "data": {
      "text/plain": [
       "array([0.51, 0.69, 0.93, 0.62, 0.76, 0.76, 0.71])"
      ]
     },
     "execution_count": 111,
     "metadata": {},
     "output_type": "execute_result"
    }
   ],
   "source": [
    "mayores"
   ]
  },
  {
   "cell_type": "code",
   "execution_count": 117,
   "metadata": {},
   "outputs": [
    {
     "data": {
      "text/plain": [
       "array([1, 3, 4, 5, 6, 8, 9])"
      ]
     },
     "execution_count": 117,
     "metadata": {},
     "output_type": "execute_result"
    }
   ],
   "source": [
    "index = np.where(array6 > 0.5)[0]\n",
    "index"
   ]
  },
  {
   "cell_type": "code",
   "execution_count": 108,
   "metadata": {},
   "outputs": [
    {
     "name": "stderr",
     "output_type": "stream",
     "text": [
      "/tmp/ipykernel_337/919921901.py:1: DeprecationWarning: elementwise comparison failed; this will raise an error in the future.\n",
      "  index = np.where(array6 == mayores)\n"
     ]
    },
    {
     "data": {
      "text/plain": [
       "(array([], dtype=int64),)"
      ]
     },
     "execution_count": 108,
     "metadata": {},
     "output_type": "execute_result"
    }
   ],
   "source": [
    "index = np.where(array6 == mayores)\n",
    "index"
   ]
  },
  {
   "cell_type": "markdown",
   "metadata": {},
   "source": [
    "Crea un array 1D con 40 valores del 1 al 100 (ambos incluidos). Obtén los elementos que son divisibles por 3 y por 4."
   ]
  },
  {
   "cell_type": "code",
   "execution_count": 120,
   "metadata": {},
   "outputs": [
    {
     "data": {
      "text/plain": [
       "array([72, 93, 80, 80,  1, 95, 59, 83, 44, 81, 14, 14, 24, 62, 19, 91, 16,\n",
       "       65, 51, 33, 78, 46, 17, 42, 88, 83, 77, 43, 51, 90,  5, 81, 78, 78,\n",
       "        4, 59,  4,  6, 52, 54])"
      ]
     },
     "execution_count": 120,
     "metadata": {},
     "output_type": "execute_result"
    }
   ],
   "source": [
    "array7= np.random.randint(1, 100, (40))\n",
    "array7"
   ]
  },
  {
   "cell_type": "code",
   "execution_count": 123,
   "metadata": {},
   "outputs": [
    {
     "data": {
      "text/plain": [
       "array([[[0.32, 0.56, 0.57, ..., 0.79, 0.59, 0.75],\n",
       "        [1.  , 0.79, 0.54, ..., 0.57, 0.45, 0.99],\n",
       "        [0.84, 0.03, 0.13, ..., 0.87, 0.31, 0.31],\n",
       "        ...,\n",
       "        [0.2 , 0.16, 0.85, ..., 0.41, 0.93, 0.22],\n",
       "        [0.35, 0.97, 0.26, ..., 0.33, 0.99, 0.23],\n",
       "        [0.08, 0.05, 0.99, ..., 0.8 , 0.77, 0.83]]])"
      ]
     },
     "execution_count": 123,
     "metadata": {},
     "output_type": "execute_result"
    }
   ],
   "source": [
    "array8= np.random.rand(1, 100, (40)).round(2)\n",
    "array8"
   ]
  },
  {
   "cell_type": "code",
   "execution_count": 131,
   "metadata": {},
   "outputs": [
    {
     "data": {
      "text/plain": [
       "array([45.64, 89.52, 40.48, 24.68, 44.56, 31.42, 22.38, 53.35, 29.37,\n",
       "       95.56, 90.97,  1.25, 42.22, 79.62, 72.68, 11.26, 30.65, 78.43,\n",
       "       49.7 ,  7.57, 74.38, 60.96, 89.64,  5.83, 70.82, 60.3 , 56.21,\n",
       "       57.01, 43.69, 79.43, 55.55,  7.93, 21.42, 25.06, 48.83, 73.76,\n",
       "       35.79, 34.28,  9.17, 45.99])"
      ]
     },
     "execution_count": 131,
     "metadata": {},
     "output_type": "execute_result"
    }
   ],
   "source": [
    "array9= np.random.uniform(1, 101, (40)).round(2)\n",
    "array9"
   ]
  },
  {
   "cell_type": "code",
   "execution_count": 132,
   "metadata": {},
   "outputs": [
    {
     "data": {
      "text/plain": [
       "array([], dtype=float64)"
      ]
     },
     "execution_count": 132,
     "metadata": {},
     "output_type": "execute_result"
    }
   ],
   "source": [
    "array9[(array9 % 3 ==0)&(array9 % 4 ==0)]"
   ]
  },
  {
   "cell_type": "markdown",
   "metadata": {},
   "source": [
    "\n",
    "BONUS: Crea un array 3D de forma (2, 3, 5) y 50 elementos con números enteros entre 0 y 100 (ambos incluidos). Reemplaza los elementos en posiciones múltiplos de 3 por 0."
   ]
  },
  {
   "cell_type": "code",
   "execution_count": 136,
   "metadata": {},
   "outputs": [
    {
     "data": {
      "text/plain": [
       "array([[[57,  5, 47, 19, 61],\n",
       "        [51, 15, 55, 12,  3],\n",
       "        [ 6, 28, 81, 94, 67]],\n",
       "\n",
       "       [[72,  1, 89, 77, 29],\n",
       "        [63, 78,  2, 96, 44],\n",
       "        [54, 85, 66, 15, 94]]])"
      ]
     },
     "execution_count": 136,
     "metadata": {},
     "output_type": "execute_result"
    }
   ],
   "source": [
    "array10 = np.random.randint(1, 101, (2,3,5))\n",
    "array10"
   ]
  },
  {
   "cell_type": "code",
   "execution_count": null,
   "metadata": {},
   "outputs": [],
   "source": [
    "array11 = np.random.randint(0, 101, size=(2, 3, 5))"
   ]
  },
  {
   "cell_type": "code",
   "execution_count": 138,
   "metadata": {},
   "outputs": [
    {
     "ename": "ValueError",
     "evalue": "cannot reshape array of size 2 into shape (2,3,5)",
     "output_type": "error",
     "traceback": [
      "\u001b[0;31m---------------------------------------------------------------------------\u001b[0m",
      "\u001b[0;31mValueError\u001b[0m                                Traceback (most recent call last)",
      "Cell \u001b[0;32mIn[138], line 1\u001b[0m\n\u001b[0;32m----> 1\u001b[0m array11\u001b[38;5;241m=\u001b[39m\u001b[43mnp\u001b[49m\u001b[38;5;241;43m.\u001b[39;49m\u001b[43marange\u001b[49m\u001b[43m(\u001b[49m\u001b[38;5;241;43m1\u001b[39;49m\u001b[43m,\u001b[49m\u001b[38;5;241;43m101\u001b[39;49m\u001b[43m,\u001b[49m\u001b[43m(\u001b[49m\u001b[38;5;241;43m50\u001b[39;49m\u001b[43m)\u001b[49m\u001b[43m)\u001b[49m\u001b[38;5;241;43m.\u001b[39;49m\u001b[43mreshape\u001b[49m\u001b[43m(\u001b[49m\u001b[38;5;241;43m2\u001b[39;49m\u001b[43m,\u001b[49m\u001b[38;5;241;43m3\u001b[39;49m\u001b[43m,\u001b[49m\u001b[38;5;241;43m5\u001b[39;49m\u001b[43m)\u001b[49m\n\u001b[1;32m      2\u001b[0m array11\n",
      "\u001b[0;31mValueError\u001b[0m: cannot reshape array of size 2 into shape (2,3,5)"
     ]
    }
   ],
   "source": [
    "array11=np.arange(1,101,(50)).reshape(2,3,5)\n",
    "array11"
   ]
  },
  {
   "cell_type": "markdown",
   "metadata": {},
   "source": [
    "Crea un array 3D de forma (2, 3, 4) con valores aleatorios entre 1 y 100 (ambos inclusive). \n",
    "Utiliza reshape para convertirlo en un array 2D. Deberás pensar en la forma que es correcta para hacer este cambio.\n"
   ]
  },
  {
   "cell_type": "code",
   "execution_count": 146,
   "metadata": {},
   "outputs": [
    {
     "data": {
      "text/plain": [
       "array([[[58, 26, 25, 18],\n",
       "        [31, 15, 38, 28],\n",
       "        [45, 18,  7, 16]],\n",
       "\n",
       "       [[78, 74, 85, 14],\n",
       "        [78, 66, 31, 60],\n",
       "        [23, 57, 39, 45]]])"
      ]
     },
     "execution_count": 146,
     "metadata": {},
     "output_type": "execute_result"
    }
   ],
   "source": [
    "array_3D = np.random.randint(1, 101, (2,3,4))\n",
    "array_3D"
   ]
  },
  {
   "cell_type": "code",
   "execution_count": 147,
   "metadata": {},
   "outputs": [
    {
     "data": {
      "text/plain": [
       "array([[58, 26, 25, 18],\n",
       "       [31, 15, 38, 28],\n",
       "       [45, 18,  7, 16],\n",
       "       [78, 74, 85, 14],\n",
       "       [78, 66, 31, 60],\n",
       "       [23, 57, 39, 45]])"
      ]
     },
     "execution_count": 147,
     "metadata": {},
     "output_type": "execute_result"
    }
   ],
   "source": [
    "array_2d = array_3D.reshape(-1, 4)\n",
    "array_2d"
   ]
  },
  {
   "cell_type": "markdown",
   "metadata": {},
   "source": [
    "Crea un array 3D de forma (3, 4, 5) con valores enteros del 1 al 60 (sin incluir). Utiliza reshape para convertirlo en un array 2D."
   ]
  },
  {
   "cell_type": "code",
   "execution_count": 153,
   "metadata": {},
   "outputs": [
    {
     "data": {
      "text/plain": [
       "array([[[40, 58, 37, 39, 40],\n",
       "        [17, 30, 14, 45, 41],\n",
       "        [11, 12, 41,  4, 53],\n",
       "        [57, 23, 42, 17, 25]],\n",
       "\n",
       "       [[ 5, 35, 43, 55, 17],\n",
       "        [24, 55, 53, 58, 45],\n",
       "        [13,  7, 35, 13, 21],\n",
       "        [33, 12, 26, 54, 24]],\n",
       "\n",
       "       [[25, 30, 57, 17, 47],\n",
       "        [ 7,  8,  8, 16, 56],\n",
       "        [23, 29,  3,  3, 31],\n",
       "        [58,  4, 21, 32,  5]]])"
      ]
     },
     "execution_count": 153,
     "metadata": {},
     "output_type": "execute_result"
    }
   ],
   "source": [
    "array_ = np.random.randint(2, 60, (3,4,5))\n",
    "array_"
   ]
  },
  {
   "cell_type": "code",
   "execution_count": 159,
   "metadata": {},
   "outputs": [
    {
     "data": {
      "text/plain": [
       "array([[40, 58, 37, 39, 40],\n",
       "       [17, 30, 14, 45, 41],\n",
       "       [11, 12, 41,  4, 53],\n",
       "       [57, 23, 42, 17, 25],\n",
       "       [ 5, 35, 43, 55, 17],\n",
       "       [24, 55, 53, 58, 45],\n",
       "       [13,  7, 35, 13, 21],\n",
       "       [33, 12, 26, 54, 24],\n",
       "       [25, 30, 57, 17, 47],\n",
       "       [ 7,  8,  8, 16, 56],\n",
       "       [23, 29,  3,  3, 31],\n",
       "       [58,  4, 21, 32,  5]])"
      ]
     },
     "execution_count": 159,
     "metadata": {},
     "output_type": "execute_result"
    }
   ],
   "source": [
    "array_2 = array_.reshape(-10, 5)\n",
    "array_2"
   ]
  },
  {
   "cell_type": "markdown",
   "metadata": {},
   "source": [
    "\n",
    "Crea un array 3D de forma (4, 3, 2) con valores aleatorios entre 0 y 1. Utiliza reshape para convertirlo en un array 2D."
   ]
  },
  {
   "cell_type": "code",
   "execution_count": 161,
   "metadata": {},
   "outputs": [
    {
     "data": {
      "text/plain": [
       "array([[[0.21495822, 0.85369961],\n",
       "        [0.62910654, 0.36977428],\n",
       "        [0.18200535, 0.93589959]],\n",
       "\n",
       "       [[0.52262135, 0.51034077],\n",
       "        [0.40182115, 0.11998769],\n",
       "        [0.30927249, 0.1742036 ]],\n",
       "\n",
       "       [[0.67895191, 0.42788189],\n",
       "        [0.61915539, 0.54451934],\n",
       "        [0.17573524, 0.79921625]],\n",
       "\n",
       "       [[0.26048733, 0.18922853],\n",
       "        [0.51024543, 0.46522255],\n",
       "        [0.57797136, 0.3846472 ]]])"
      ]
     },
     "execution_count": 161,
     "metadata": {},
     "output_type": "execute_result"
    }
   ],
   "source": [
    "arr= np.random.rand(4, 3, 2)\n",
    "arr"
   ]
  },
  {
   "cell_type": "code",
   "execution_count": 162,
   "metadata": {},
   "outputs": [
    {
     "data": {
      "text/plain": [
       "array([[0.21495822, 0.85369961],\n",
       "       [0.62910654, 0.36977428],\n",
       "       [0.18200535, 0.93589959],\n",
       "       [0.52262135, 0.51034077],\n",
       "       [0.40182115, 0.11998769],\n",
       "       [0.30927249, 0.1742036 ],\n",
       "       [0.67895191, 0.42788189],\n",
       "       [0.61915539, 0.54451934],\n",
       "       [0.17573524, 0.79921625],\n",
       "       [0.26048733, 0.18922853],\n",
       "       [0.51024543, 0.46522255],\n",
       "       [0.57797136, 0.3846472 ]])"
      ]
     },
     "execution_count": 162,
     "metadata": {},
     "output_type": "execute_result"
    }
   ],
   "source": [
    "arra = arr.reshape(-10, 2)\n",
    "arra"
   ]
  },
  {
   "cell_type": "markdown",
   "metadata": {},
   "source": [
    "Ejercicios con transpose:\n",
    "Utiliza el array 3D del ejercicio 2 de reshape. Utiliza transpose para permutar los ejes y obtener un nuevo array con forma (5, 4, 3)."
   ]
  },
  {
   "cell_type": "code",
   "execution_count": 163,
   "metadata": {},
   "outputs": [
    {
     "data": {
      "text/plain": [
       "array([[[12, 44, 13, 34, 58],\n",
       "        [27, 58,  4,  5,  3],\n",
       "        [37, 10, 30, 43,  3],\n",
       "        [31, 41, 25,  5, 52]],\n",
       "\n",
       "       [[ 4, 35, 15, 14, 29],\n",
       "        [32, 12, 25, 50, 23],\n",
       "        [42, 14, 45, 24, 56],\n",
       "        [56, 48, 51,  8, 47]],\n",
       "\n",
       "       [[49, 14, 29, 57, 42],\n",
       "        [13, 16, 11, 52,  2],\n",
       "        [19, 12, 13, 49, 20],\n",
       "        [31, 48, 55, 42, 59]]])"
      ]
     },
     "execution_count": 163,
     "metadata": {},
     "output_type": "execute_result"
    }
   ],
   "source": [
    "array_ = np.random.randint(2, 60, (3,4,5))\n",
    "array_"
   ]
  },
  {
   "cell_type": "code",
   "execution_count": 165,
   "metadata": {},
   "outputs": [
    {
     "data": {
      "text/plain": [
       "array([[[12,  4, 49],\n",
       "        [27, 32, 13],\n",
       "        [37, 42, 19],\n",
       "        [31, 56, 31]],\n",
       "\n",
       "       [[44, 35, 14],\n",
       "        [58, 12, 16],\n",
       "        [10, 14, 12],\n",
       "        [41, 48, 48]],\n",
       "\n",
       "       [[13, 15, 29],\n",
       "        [ 4, 25, 11],\n",
       "        [30, 45, 13],\n",
       "        [25, 51, 55]],\n",
       "\n",
       "       [[34, 14, 57],\n",
       "        [ 5, 50, 52],\n",
       "        [43, 24, 49],\n",
       "        [ 5,  8, 42]],\n",
       "\n",
       "       [[58, 29, 42],\n",
       "        [ 3, 23,  2],\n",
       "        [ 3, 56, 20],\n",
       "        [52, 47, 59]]])"
      ]
     },
     "execution_count": 165,
     "metadata": {},
     "output_type": "execute_result"
    }
   ],
   "source": [
    "transponer=np.transpose(array_)#(5,4,3)\n",
    "transponer"
   ]
  },
  {
   "cell_type": "markdown",
   "metadata": {},
   "source": [
    "\n",
    "Utiliza el array 3D del ejercicio 3 de reshape. Utiliza transpose para cambiar el orden de los ejes y obtener un nuevo array con forma (3, 2, 4)."
   ]
  },
  {
   "cell_type": "code",
   "execution_count": 166,
   "metadata": {},
   "outputs": [
    {
     "data": {
      "text/plain": [
       "array([[[0.00194194, 0.54447809],\n",
       "        [0.06603692, 0.27401333],\n",
       "        [0.54906457, 0.21673869]],\n",
       "\n",
       "       [[0.40526172, 0.72554155],\n",
       "        [0.97831753, 0.30867888],\n",
       "        [0.71877632, 0.4842085 ]],\n",
       "\n",
       "       [[0.26581326, 0.45414021],\n",
       "        [0.24502485, 0.78698498],\n",
       "        [0.93051735, 0.997849  ]],\n",
       "\n",
       "       [[0.96995519, 0.22988931],\n",
       "        [0.4389974 , 0.23360087],\n",
       "        [0.61869345, 0.46360999]]])"
      ]
     },
     "execution_count": 166,
     "metadata": {},
     "output_type": "execute_result"
    }
   ],
   "source": [
    "arr= np.random.rand(4, 3, 2) #indices (0,1,2)\n",
    "arr"
   ]
  },
  {
   "cell_type": "code",
   "execution_count": 168,
   "metadata": {},
   "outputs": [
    {
     "data": {
      "text/plain": [
       "array([[[0.00194194, 0.40526172, 0.26581326, 0.96995519],\n",
       "        [0.54447809, 0.72554155, 0.45414021, 0.22988931]],\n",
       "\n",
       "       [[0.06603692, 0.97831753, 0.24502485, 0.4389974 ],\n",
       "        [0.27401333, 0.30867888, 0.78698498, 0.23360087]],\n",
       "\n",
       "       [[0.54906457, 0.71877632, 0.93051735, 0.61869345],\n",
       "        [0.21673869, 0.4842085 , 0.997849  , 0.46360999]]])"
      ]
     },
     "execution_count": 168,
     "metadata": {},
     "output_type": "execute_result"
    }
   ],
   "source": [
    "trans=np.transpose(arr,(1, 2, 0)) #(3, 2, 4) \n",
    "trans"
   ]
  },
  {
   "cell_type": "markdown",
   "metadata": {},
   "source": [
    "Funciones Aritméticas y Estadísticas:\n",
    "Crea un array de tres 3D con elementos entre el 0 y 1 de forma (2, 3, 5) cuyos valores solo tengan 1 decimal."
   ]
  },
  {
   "cell_type": "code",
   "execution_count": 170,
   "metadata": {},
   "outputs": [
    {
     "data": {
      "text/plain": [
       "array([[[0.3, 0.5, 0.4, 0.4, 0.4],\n",
       "        [0.5, 0. , 0.1, 0.4, 0.8],\n",
       "        [1. , 0.7, 0.6, 0.5, 0.8]],\n",
       "\n",
       "       [[0.7, 0.2, 0.6, 0.2, 0.7],\n",
       "        [0.5, 0.8, 0.5, 0.9, 0. ],\n",
       "        [0.4, 0.1, 0.7, 0.9, 0.5]]])"
      ]
     },
     "execution_count": 170,
     "metadata": {},
     "output_type": "execute_result"
    }
   ],
   "source": [
    "a3D =np.random.rand(2,3,5).round(1)\n",
    "a3D"
   ]
  },
  {
   "cell_type": "markdown",
   "metadata": {},
   "source": [
    "\n",
    "Crea un array vacío con la misma forma y dimensiones que el array creado anteriormente. Vamos a reemplazar los valores de la matriz vacía que nos acabamos de crear pero basándonos en los valores del primer array bajo las siguientes condiciones:\n",
    "\n",
    "Si el valor del array es igual que la media, se reemplaza por \"A\".\n",
    "\n",
    "Si el valor del array es mayor que la media, se reemplaza por \"B\".\n",
    "\n",
    "Si el valor del array es menor que la media, se reemplaza por \"C\".\n",
    "\n",
    "Si el valor es igual que el máximo, se reemplaza por \"D\".\n",
    "\n",
    "Si el valor es igual que el mínimo, se reemplaza por \"E\"."
   ]
  },
  {
   "cell_type": "code",
   "execution_count": 173,
   "metadata": {},
   "outputs": [
    {
     "data": {
      "text/plain": [
       "array([[[0.3, 0.5, 0.4, 0.4, 0.4],\n",
       "        [0.5, 0. , 0.1, 0.4, 0.8],\n",
       "        [1. , 0.7, 0.6, 0.5, 0.8]],\n",
       "\n",
       "       [[0.7, 0.2, 0.6, 0.2, 0.7],\n",
       "        [0.5, 0.8, 0.5, 0.9, 0. ],\n",
       "        [0.4, 0.1, 0.7, 0.9, 0.5]]])"
      ]
     },
     "execution_count": 173,
     "metadata": {},
     "output_type": "execute_result"
    }
   ],
   "source": [
    "vacio=np.empty((2,3,5)).round(1)\n",
    "vacio"
   ]
  }
 ],
 "metadata": {
  "kernelspec": {
   "display_name": "Python 3 (ipykernel)",
   "language": "python",
   "name": "python3"
  },
  "language_info": {
   "codemirror_mode": {
    "name": "ipython",
    "version": 3
   },
   "file_extension": ".py",
   "mimetype": "text/x-python",
   "name": "python",
   "nbconvert_exporter": "python",
   "pygments_lexer": "ipython3",
   "version": "3.9.7"
  },
  "toc": {
   "base_numbering": 1,
   "nav_menu": {},
   "number_sections": true,
   "sideBar": true,
   "skip_h1_title": false,
   "title_cell": "Table of Contents",
   "title_sidebar": "Contents",
   "toc_cell": true,
   "toc_position": {
    "height": "calc(100% - 180px)",
    "left": "10px",
    "top": "150px",
    "width": "426.667px"
   },
   "toc_section_display": true,
   "toc_window_display": true
  }
 },
 "nbformat": 4,
 "nbformat_minor": 2
}
