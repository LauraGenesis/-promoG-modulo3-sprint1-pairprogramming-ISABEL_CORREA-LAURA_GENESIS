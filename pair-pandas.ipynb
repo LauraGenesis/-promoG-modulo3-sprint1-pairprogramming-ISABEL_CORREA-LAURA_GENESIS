{
 "cells": [
  {
   "cell_type": "code",
   "execution_count": 1,
   "metadata": {},
   "outputs": [
    {
     "name": "stderr",
     "output_type": "stream",
     "text": [
      "C:\\Users\\Isabel\\AppData\\Local\\Temp\\ipykernel_7040\\605883380.py:1: DeprecationWarning: \n",
      "Pyarrow will become a required dependency of pandas in the next major release of pandas (pandas 3.0),\n",
      "(to allow more performant data types, such as the Arrow string type, and better interoperability with other libraries)\n",
      "but was not found to be installed on your system.\n",
      "If this would cause problems for you,\n",
      "please provide us feedback at https://github.com/pandas-dev/pandas/issues/54466\n",
      "        \n",
      "  import pandas as pd\n"
     ]
    }
   ],
   "source": [
    "import pandas as pd\n",
    "import numpy as np\n",
    "import random"
   ]
  },
  {
   "cell_type": "markdown",
   "metadata": {},
   "source": [
    "1. ¿Qué diferencia hay entre una Serie y un DataFrame?\n",
    "\n",
    "Serie: undidimensional.\n",
    "DataFrame: bidimensional."
   ]
  },
  {
   "cell_type": "markdown",
   "metadata": {},
   "source": [
    "Crea dos listas:\n",
    "\n",
    "Una que se llame \"valores\" que tenga 7 números aleatorios.\n",
    "\n",
    "Otra que se llame \"indices\" que tenga 7 strings que se llamen como los días de la semana."
   ]
  },
  {
   "cell_type": "code",
   "execution_count": 3,
   "metadata": {},
   "outputs": [
    {
     "data": {
      "text/plain": [
       "[19, 12, 16, 13, 16, 11, 5]"
      ]
     },
     "execution_count": 3,
     "metadata": {},
     "output_type": "execute_result"
    }
   ],
   "source": [
    "valores = [random.randint(1,20) for _ in range(7)]\n",
    "\n",
    "indices = ['Lun', 'Mar', 'Mie', 'Jue', 'Vie', 'Sab', 'Dom']\n",
    "\n",
    "valores"
   ]
  },
  {
   "cell_type": "markdown",
   "metadata": {},
   "source": [
    "A partir de estas dos listas crea una Serie donde la variable \"valores\" sean los valores de la Serie y la variable indices sean los índices de la Serie."
   ]
  },
  {
   "cell_type": "code",
   "execution_count": 4,
   "metadata": {},
   "outputs": [
    {
     "data": {
      "text/plain": [
       "Lun    19\n",
       "Mar    12\n",
       "Mie    16\n",
       "Jue    13\n",
       "Vie    16\n",
       "Sab    11\n",
       "Dom     5\n",
       "dtype: int64"
      ]
     },
     "execution_count": 4,
     "metadata": {},
     "output_type": "execute_result"
    }
   ],
   "source": [
    "serie = pd.Series(valores, indices)\n",
    "\n",
    "serie"
   ]
  },
  {
   "cell_type": "markdown",
   "metadata": {},
   "source": [
    "A partir de las dos listas anteriores crea un diccionario usando un bucle for. Para hacer esto tenemos el método zip que nos permite iterar por dos listas a la vez."
   ]
  },
  {
   "cell_type": "code",
   "execution_count": 5,
   "metadata": {},
   "outputs": [
    {
     "data": {
      "text/plain": [
       "{'Lun': 19, 'Mar': 12, 'Mie': 16, 'Jue': 13, 'Vie': 16, 'Sab': 11, 'Dom': 5}"
      ]
     },
     "execution_count": 5,
     "metadata": {},
     "output_type": "execute_result"
    }
   ],
   "source": [
    "dicc = {}\n",
    "\n",
    "for indice, valor in zip(indices, valores):\n",
    "    dicc[indice] = valor\n",
    "\n",
    "dicc"
   ]
  },
  {
   "cell_type": "markdown",
   "metadata": {},
   "source": [
    "Crea una Serie con el diccionario creado en el punto anterior."
   ]
  },
  {
   "cell_type": "code",
   "execution_count": 8,
   "metadata": {},
   "outputs": [
    {
     "data": {
      "text/plain": [
       "Lun    19\n",
       "Mar    12\n",
       "Mie    16\n",
       "Jue    13\n",
       "Vie    16\n",
       "Sab    11\n",
       "Dom     5\n",
       "dtype: int64"
      ]
     },
     "execution_count": 8,
     "metadata": {},
     "output_type": "execute_result"
    }
   ],
   "source": [
    "serie_dicc = pd.Series(dicc)\n",
    "\n",
    "serie_dicc"
   ]
  },
  {
   "cell_type": "code",
   "execution_count": 13,
   "metadata": {},
   "outputs": [
    {
     "name": "stdout",
     "output_type": "stream",
     "text": [
      "Forma: \n",
      " (7,)\n",
      "Tipo datos: \n",
      " int64\n",
      "Tamaño: \n",
      " 7\n",
      "Indices: \n",
      " Index(['Lun', 'Mar', 'Mie', 'Jue', 'Vie', 'Sab', 'Dom'], dtype='object')\n",
      "Values: \n",
      " [19 12 16 13 16 11  5]\n"
     ]
    }
   ],
   "source": [
    "# ¿Qué forma tiene esta última Serie?\n",
    "print('Forma: \\n', serie_dicc.shape)\n",
    "\n",
    "# ¿Qué tipo de datos tiene?\n",
    "print('Tipo datos: \\n', serie_dicc.dtype)\n",
    "# ¿Qué tamaño tiene?\n",
    "print('Tamaño: \\n', serie_dicc.size)\n",
    "# ¿Cuáles son los índices de la Serie?\n",
    "print('Indices: \\n', serie_dicc.index)\n",
    "# ¿Y los values?\n",
    "print('Values: \\n', serie_dicc.values)"
   ]
  },
  {
   "cell_type": "code",
   "execution_count": 21,
   "metadata": {},
   "outputs": [
    {
     "name": "stdout",
     "output_type": "stream",
     "text": [
      "Valor de Lun: 19 \n",
      "\n",
      "Valor de lunes a miércoles: \n",
      " Lun    19\n",
      "Mar    12\n",
      "Mie    16\n",
      "dtype: int64 \n",
      "\n",
      "Valores lunes y domingo: \n",
      " Lun    19\n",
      "Dom     5\n",
      "dtype: int64\n"
     ]
    }
   ],
   "source": [
    "# Extrae el valor para el índice \"lunes\"\n",
    "print('Valor de Lun:', serie_dicc['Lun'], '\\n')\n",
    "\n",
    "# Extrae el valor para el índice \"lunes\", \"martes\" y \"miércoles\".\n",
    "print('Valor de lunes a miércoles: \\n', serie_dicc['Lun':'Mie'], '\\n')\n",
    "\n",
    "# Extrae el valor para el índice \"lunes\" y \"domingo\".\n",
    "print('Valores lunes y domingo: \\n', serie_dicc[['Lun', 'Dom']])"
   ]
  },
  {
   "cell_type": "markdown",
   "metadata": {},
   "source": [
    "Crea un array de dos dimensiones con 4 filas y 3 columnas.\n",
    "\n",
    "Convierte el array en un DataFrame donde las columnas se llamen \"España\", \"Francia\" e \"Italia\""
   ]
  },
  {
   "cell_type": "code",
   "execution_count": 23,
   "metadata": {},
   "outputs": [
    {
     "data": {
      "text/plain": [
       "array([[0.09, 0.4 , 0.42],\n",
       "       [0.33, 0.43, 0.9 ],\n",
       "       [0.72, 0.42, 0.37],\n",
       "       [0.42, 0.71, 0.6 ]])"
      ]
     },
     "execution_count": 23,
     "metadata": {},
     "output_type": "execute_result"
    }
   ],
   "source": [
    "array = np.random.rand(4,3).round(2)\n",
    "array"
   ]
  },
  {
   "cell_type": "code",
   "execution_count": 25,
   "metadata": {},
   "outputs": [
    {
     "data": {
      "text/html": [
       "<div>\n",
       "<style scoped>\n",
       "    .dataframe tbody tr th:only-of-type {\n",
       "        vertical-align: middle;\n",
       "    }\n",
       "\n",
       "    .dataframe tbody tr th {\n",
       "        vertical-align: top;\n",
       "    }\n",
       "\n",
       "    .dataframe thead th {\n",
       "        text-align: right;\n",
       "    }\n",
       "</style>\n",
       "<table border=\"1\" class=\"dataframe\">\n",
       "  <thead>\n",
       "    <tr style=\"text-align: right;\">\n",
       "      <th></th>\n",
       "      <th>España</th>\n",
       "      <th>Francia</th>\n",
       "      <th>Italia</th>\n",
       "    </tr>\n",
       "  </thead>\n",
       "  <tbody>\n",
       "    <tr>\n",
       "      <th>0</th>\n",
       "      <td>0.09</td>\n",
       "      <td>0.40</td>\n",
       "      <td>0.42</td>\n",
       "    </tr>\n",
       "    <tr>\n",
       "      <th>1</th>\n",
       "      <td>0.33</td>\n",
       "      <td>0.43</td>\n",
       "      <td>0.90</td>\n",
       "    </tr>\n",
       "    <tr>\n",
       "      <th>2</th>\n",
       "      <td>0.72</td>\n",
       "      <td>0.42</td>\n",
       "      <td>0.37</td>\n",
       "    </tr>\n",
       "    <tr>\n",
       "      <th>3</th>\n",
       "      <td>0.42</td>\n",
       "      <td>0.71</td>\n",
       "      <td>0.60</td>\n",
       "    </tr>\n",
       "  </tbody>\n",
       "</table>\n",
       "</div>"
      ],
      "text/plain": [
       "   España  Francia  Italia\n",
       "0    0.09     0.40    0.42\n",
       "1    0.33     0.43    0.90\n",
       "2    0.72     0.42    0.37\n",
       "3    0.42     0.71    0.60"
      ]
     },
     "execution_count": 25,
     "metadata": {},
     "output_type": "execute_result"
    }
   ],
   "source": [
    "df = pd.DataFrame(array, columns=['España', 'Francia', 'Italia'])\n",
    "df"
   ]
  },
  {
   "cell_type": "code",
   "execution_count": 27,
   "metadata": {},
   "outputs": [
    {
     "data": {
      "text/html": [
       "<div>\n",
       "<style scoped>\n",
       "    .dataframe tbody tr th:only-of-type {\n",
       "        vertical-align: middle;\n",
       "    }\n",
       "\n",
       "    .dataframe tbody tr th {\n",
       "        vertical-align: top;\n",
       "    }\n",
       "\n",
       "    .dataframe thead th {\n",
       "        text-align: right;\n",
       "    }\n",
       "</style>\n",
       "<table border=\"1\" class=\"dataframe\">\n",
       "  <thead>\n",
       "    <tr style=\"text-align: right;\">\n",
       "      <th></th>\n",
       "      <th>País</th>\n",
       "      <th>Oro</th>\n",
       "      <th>Plata</th>\n",
       "      <th>Bronce</th>\n",
       "    </tr>\n",
       "  </thead>\n",
       "  <tbody>\n",
       "    <tr>\n",
       "      <th>1</th>\n",
       "      <td>China</td>\n",
       "      <td>1473</td>\n",
       "      <td>994</td>\n",
       "      <td>720</td>\n",
       "    </tr>\n",
       "    <tr>\n",
       "      <th>2</th>\n",
       "      <td>Japón</td>\n",
       "      <td>1032</td>\n",
       "      <td>1037</td>\n",
       "      <td>985</td>\n",
       "    </tr>\n",
       "    <tr>\n",
       "      <th>3</th>\n",
       "      <td>Corea del Sur</td>\n",
       "      <td>745</td>\n",
       "      <td>663</td>\n",
       "      <td>827</td>\n",
       "    </tr>\n",
       "    <tr>\n",
       "      <th>4</th>\n",
       "      <td>Irán</td>\n",
       "      <td>179</td>\n",
       "      <td>181</td>\n",
       "      <td>197</td>\n",
       "    </tr>\n",
       "    <tr>\n",
       "      <th>5</th>\n",
       "      <td>Kazajistán</td>\n",
       "      <td>155</td>\n",
       "      <td>158</td>\n",
       "      <td>224</td>\n",
       "    </tr>\n",
       "    <tr>\n",
       "      <th>6</th>\n",
       "      <td>India</td>\n",
       "      <td>154</td>\n",
       "      <td>202</td>\n",
       "      <td>315</td>\n",
       "    </tr>\n",
       "    <tr>\n",
       "      <th>7</th>\n",
       "      <td>Tailandia</td>\n",
       "      <td>132</td>\n",
       "      <td>175</td>\n",
       "      <td>278</td>\n",
       "    </tr>\n",
       "    <tr>\n",
       "      <th>8</th>\n",
       "      <td>Indonesia</td>\n",
       "      <td>112</td>\n",
       "      <td>131</td>\n",
       "      <td>240</td>\n",
       "    </tr>\n",
       "    <tr>\n",
       "      <th>9</th>\n",
       "      <td>China Taipéi</td>\n",
       "      <td>99</td>\n",
       "      <td>144</td>\n",
       "      <td>276</td>\n",
       "    </tr>\n",
       "    <tr>\n",
       "      <th>10</th>\n",
       "      <td>Corea del Norte</td>\n",
       "      <td>91</td>\n",
       "      <td>120</td>\n",
       "      <td>235</td>\n",
       "    </tr>\n",
       "  </tbody>\n",
       "</table>\n",
       "</div>"
      ],
      "text/plain": [
       "               País   Oro  Plata  Bronce\n",
       "1             China  1473    994     720\n",
       "2             Japón  1032   1037     985\n",
       "3     Corea del Sur   745    663     827\n",
       "4              Irán   179    181     197\n",
       "5        Kazajistán   155    158     224\n",
       "6             India   154    202     315\n",
       "7         Tailandia   132    175     278\n",
       "8         Indonesia   112    131     240\n",
       "9      China Taipéi    99    144     276\n",
       "10  Corea del Norte    91    120     235"
      ]
     },
     "execution_count": 27,
     "metadata": {},
     "output_type": "execute_result"
    }
   ],
   "source": [
    "medallas = pd.read_csv('medallas.csv', index_col=0)\n",
    "\n",
    "medallas"
   ]
  },
  {
   "cell_type": "code",
   "execution_count": 45,
   "metadata": {},
   "outputs": [
    {
     "data": {
      "text/html": [
       "<div>\n",
       "<style scoped>\n",
       "    .dataframe tbody tr th:only-of-type {\n",
       "        vertical-align: middle;\n",
       "    }\n",
       "\n",
       "    .dataframe tbody tr th {\n",
       "        vertical-align: top;\n",
       "    }\n",
       "\n",
       "    .dataframe thead th {\n",
       "        text-align: right;\n",
       "    }\n",
       "</style>\n",
       "<table border=\"1\" class=\"dataframe\">\n",
       "  <thead>\n",
       "    <tr style=\"text-align: right;\">\n",
       "      <th></th>\n",
       "      <th>Oro</th>\n",
       "      <th>Plata</th>\n",
       "      <th>Bronce</th>\n",
       "    </tr>\n",
       "  </thead>\n",
       "  <tbody>\n",
       "    <tr>\n",
       "      <th>2</th>\n",
       "      <td>1032</td>\n",
       "      <td>1037</td>\n",
       "      <td>985</td>\n",
       "    </tr>\n",
       "    <tr>\n",
       "      <th>4</th>\n",
       "      <td>179</td>\n",
       "      <td>181</td>\n",
       "      <td>197</td>\n",
       "    </tr>\n",
       "    <tr>\n",
       "      <th>6</th>\n",
       "      <td>154</td>\n",
       "      <td>202</td>\n",
       "      <td>315</td>\n",
       "    </tr>\n",
       "    <tr>\n",
       "      <th>8</th>\n",
       "      <td>112</td>\n",
       "      <td>131</td>\n",
       "      <td>240</td>\n",
       "    </tr>\n",
       "    <tr>\n",
       "      <th>10</th>\n",
       "      <td>91</td>\n",
       "      <td>120</td>\n",
       "      <td>235</td>\n",
       "    </tr>\n",
       "  </tbody>\n",
       "</table>\n",
       "</div>"
      ],
      "text/plain": [
       "     Oro  Plata  Bronce\n",
       "2   1032   1037     985\n",
       "4    179    181     197\n",
       "6    154    202     315\n",
       "8    112    131     240\n",
       "10    91    120     235"
      ]
     },
     "execution_count": 45,
     "metadata": {},
     "output_type": "execute_result"
    }
   ],
   "source": [
    "# Usando el loc extrae todas las columnas de la fila de Tailandia.\n",
    "medallas.loc[7]\n",
    "\n",
    "# Usando el loc extrae todas las columnas de China e Irán.\n",
    "medallas.loc[[1,4]]\n",
    "\n",
    "# Usando el loc extrae solo las columnas de \"Oro\", \"Plata\" y \"Bronce\" de China e Irán.\n",
    "medallas.loc[:, ['Oro', 'Plata', 'Bronce']]\n",
    "\n",
    "# Usando el iloc extrae la información de la India. Devolved todas las columnas.\n",
    "medallas.iloc[5]\n",
    "\n",
    "# Usando el iloc extrae todas las columnas de los paises que estén en posición impar. La primera que nos tendría que salir es Japón y la última Corea del Norte.\n",
    "medallas.iloc[1::2, :]\n",
    "\n",
    "# Utilizando el código del ejercicio anterior, selecciona unicamente las columnas \"Oro\", \"Plata\" y \"Bronce\".\n",
    "medallas.iloc[1::2, 1::]"
   ]
  },
  {
   "cell_type": "code",
   "execution_count": 46,
   "metadata": {},
   "outputs": [
    {
     "data": {
      "text/html": [
       "<div>\n",
       "<style scoped>\n",
       "    .dataframe tbody tr th:only-of-type {\n",
       "        vertical-align: middle;\n",
       "    }\n",
       "\n",
       "    .dataframe tbody tr th {\n",
       "        vertical-align: top;\n",
       "    }\n",
       "\n",
       "    .dataframe thead th {\n",
       "        text-align: right;\n",
       "    }\n",
       "</style>\n",
       "<table border=\"1\" class=\"dataframe\">\n",
       "  <thead>\n",
       "    <tr style=\"text-align: right;\">\n",
       "      <th></th>\n",
       "      <th>País</th>\n",
       "      <th>Oro</th>\n",
       "      <th>Plata</th>\n",
       "      <th>Bronce</th>\n",
       "    </tr>\n",
       "  </thead>\n",
       "  <tbody>\n",
       "    <tr>\n",
       "      <th>1</th>\n",
       "      <td>China</td>\n",
       "      <td>1473</td>\n",
       "      <td>994</td>\n",
       "      <td>720</td>\n",
       "    </tr>\n",
       "    <tr>\n",
       "      <th>2</th>\n",
       "      <td>Japón</td>\n",
       "      <td>1032</td>\n",
       "      <td>1037</td>\n",
       "      <td>985</td>\n",
       "    </tr>\n",
       "    <tr>\n",
       "      <th>3</th>\n",
       "      <td>Corea del Sur</td>\n",
       "      <td>745</td>\n",
       "      <td>663</td>\n",
       "      <td>827</td>\n",
       "    </tr>\n",
       "    <tr>\n",
       "      <th>4</th>\n",
       "      <td>Irán</td>\n",
       "      <td>179</td>\n",
       "      <td>181</td>\n",
       "      <td>197</td>\n",
       "    </tr>\n",
       "    <tr>\n",
       "      <th>5</th>\n",
       "      <td>Kazajistán</td>\n",
       "      <td>155</td>\n",
       "      <td>158</td>\n",
       "      <td>224</td>\n",
       "    </tr>\n",
       "    <tr>\n",
       "      <th>6</th>\n",
       "      <td>India</td>\n",
       "      <td>154</td>\n",
       "      <td>202</td>\n",
       "      <td>315</td>\n",
       "    </tr>\n",
       "    <tr>\n",
       "      <th>7</th>\n",
       "      <td>Tailandia</td>\n",
       "      <td>132</td>\n",
       "      <td>175</td>\n",
       "      <td>278</td>\n",
       "    </tr>\n",
       "    <tr>\n",
       "      <th>8</th>\n",
       "      <td>Indonesia</td>\n",
       "      <td>112</td>\n",
       "      <td>131</td>\n",
       "      <td>240</td>\n",
       "    </tr>\n",
       "    <tr>\n",
       "      <th>9</th>\n",
       "      <td>China Taipéi</td>\n",
       "      <td>99</td>\n",
       "      <td>144</td>\n",
       "      <td>276</td>\n",
       "    </tr>\n",
       "    <tr>\n",
       "      <th>10</th>\n",
       "      <td>Corea del Norte</td>\n",
       "      <td>91</td>\n",
       "      <td>120</td>\n",
       "      <td>235</td>\n",
       "    </tr>\n",
       "  </tbody>\n",
       "</table>\n",
       "</div>"
      ],
      "text/plain": [
       "               País   Oro  Plata  Bronce\n",
       "1             China  1473    994     720\n",
       "2             Japón  1032   1037     985\n",
       "3     Corea del Sur   745    663     827\n",
       "4              Irán   179    181     197\n",
       "5        Kazajistán   155    158     224\n",
       "6             India   154    202     315\n",
       "7         Tailandia   132    175     278\n",
       "8         Indonesia   112    131     240\n",
       "9      China Taipéi    99    144     276\n",
       "10  Corea del Norte    91    120     235"
      ]
     },
     "execution_count": 46,
     "metadata": {},
     "output_type": "execute_result"
    }
   ],
   "source": [
    "medallas"
   ]
  },
  {
   "cell_type": "code",
   "execution_count": 58,
   "metadata": {},
   "outputs": [
    {
     "data": {
      "text/plain": [
       "1            China\n",
       "2            Japón\n",
       "3    Corea del Sur\n",
       "Name: País, dtype: object"
      ]
     },
     "execution_count": 58,
     "metadata": {},
     "output_type": "execute_result"
    }
   ],
   "source": [
    "# ¿Qué país consiguió más de 200 medallas de oro?\n",
    "    # OPCIÓN A\n",
    "medallas.loc[medallas.Oro > 200, 'País']\n",
    "    # OPCIÓN B\n",
    "medallas.loc[(medallas[\"Oro\"] > 200), 'País']\n",
    "\n",
    "# ¿Qué país consiguió más de 200 medallas de oro y más de 1000 de plata?\n",
    "medallas.loc[(medallas[\"Oro\"] > 200)&(medallas['Plata'] > 1000), 'País']\n",
    "\n",
    "# ¿Qué país consiguió más de 200 medallas de oro o más de 700 de bronce?\n",
    "medallas.loc[(medallas[\"Oro\"] > 200) | (medallas['Bronce'] > 700), 'País']"
   ]
  },
  {
   "cell_type": "markdown",
   "metadata": {},
   "source": [
    "Crea una nueva columma que se llame \"total\" que sea el resultado de la suma de todas las medallas obtenidas por cada país."
   ]
  },
  {
   "cell_type": "code",
   "execution_count": 60,
   "metadata": {},
   "outputs": [
    {
     "data": {
      "text/html": [
       "<div>\n",
       "<style scoped>\n",
       "    .dataframe tbody tr th:only-of-type {\n",
       "        vertical-align: middle;\n",
       "    }\n",
       "\n",
       "    .dataframe tbody tr th {\n",
       "        vertical-align: top;\n",
       "    }\n",
       "\n",
       "    .dataframe thead th {\n",
       "        text-align: right;\n",
       "    }\n",
       "</style>\n",
       "<table border=\"1\" class=\"dataframe\">\n",
       "  <thead>\n",
       "    <tr style=\"text-align: right;\">\n",
       "      <th></th>\n",
       "      <th>País</th>\n",
       "      <th>Oro</th>\n",
       "      <th>Plata</th>\n",
       "      <th>Bronce</th>\n",
       "      <th>Total</th>\n",
       "    </tr>\n",
       "  </thead>\n",
       "  <tbody>\n",
       "    <tr>\n",
       "      <th>1</th>\n",
       "      <td>China</td>\n",
       "      <td>1473</td>\n",
       "      <td>994</td>\n",
       "      <td>720</td>\n",
       "      <td>3187</td>\n",
       "    </tr>\n",
       "    <tr>\n",
       "      <th>2</th>\n",
       "      <td>Japón</td>\n",
       "      <td>1032</td>\n",
       "      <td>1037</td>\n",
       "      <td>985</td>\n",
       "      <td>3054</td>\n",
       "    </tr>\n",
       "    <tr>\n",
       "      <th>3</th>\n",
       "      <td>Corea del Sur</td>\n",
       "      <td>745</td>\n",
       "      <td>663</td>\n",
       "      <td>827</td>\n",
       "      <td>2235</td>\n",
       "    </tr>\n",
       "    <tr>\n",
       "      <th>4</th>\n",
       "      <td>Irán</td>\n",
       "      <td>179</td>\n",
       "      <td>181</td>\n",
       "      <td>197</td>\n",
       "      <td>557</td>\n",
       "    </tr>\n",
       "    <tr>\n",
       "      <th>5</th>\n",
       "      <td>Kazajistán</td>\n",
       "      <td>155</td>\n",
       "      <td>158</td>\n",
       "      <td>224</td>\n",
       "      <td>537</td>\n",
       "    </tr>\n",
       "    <tr>\n",
       "      <th>6</th>\n",
       "      <td>India</td>\n",
       "      <td>154</td>\n",
       "      <td>202</td>\n",
       "      <td>315</td>\n",
       "      <td>671</td>\n",
       "    </tr>\n",
       "    <tr>\n",
       "      <th>7</th>\n",
       "      <td>Tailandia</td>\n",
       "      <td>132</td>\n",
       "      <td>175</td>\n",
       "      <td>278</td>\n",
       "      <td>585</td>\n",
       "    </tr>\n",
       "    <tr>\n",
       "      <th>8</th>\n",
       "      <td>Indonesia</td>\n",
       "      <td>112</td>\n",
       "      <td>131</td>\n",
       "      <td>240</td>\n",
       "      <td>483</td>\n",
       "    </tr>\n",
       "    <tr>\n",
       "      <th>9</th>\n",
       "      <td>China Taipéi</td>\n",
       "      <td>99</td>\n",
       "      <td>144</td>\n",
       "      <td>276</td>\n",
       "      <td>519</td>\n",
       "    </tr>\n",
       "    <tr>\n",
       "      <th>10</th>\n",
       "      <td>Corea del Norte</td>\n",
       "      <td>91</td>\n",
       "      <td>120</td>\n",
       "      <td>235</td>\n",
       "      <td>446</td>\n",
       "    </tr>\n",
       "  </tbody>\n",
       "</table>\n",
       "</div>"
      ],
      "text/plain": [
       "               País   Oro  Plata  Bronce  Total\n",
       "1             China  1473    994     720   3187\n",
       "2             Japón  1032   1037     985   3054\n",
       "3     Corea del Sur   745    663     827   2235\n",
       "4              Irán   179    181     197    557\n",
       "5        Kazajistán   155    158     224    537\n",
       "6             India   154    202     315    671\n",
       "7         Tailandia   132    175     278    585\n",
       "8         Indonesia   112    131     240    483\n",
       "9      China Taipéi    99    144     276    519\n",
       "10  Corea del Norte    91    120     235    446"
      ]
     },
     "execution_count": 60,
     "metadata": {},
     "output_type": "execute_result"
    }
   ],
   "source": [
    "medallas['Total'] = medallas.Oro + medallas.Plata + medallas.Bronce\n",
    "\n",
    "medallas"
   ]
  }
 ],
 "metadata": {
  "kernelspec": {
   "display_name": "Python 3",
   "language": "python",
   "name": "python3"
  },
  "language_info": {
   "codemirror_mode": {
    "name": "ipython",
    "version": 3
   },
   "file_extension": ".py",
   "mimetype": "text/x-python",
   "name": "python",
   "nbconvert_exporter": "python",
   "pygments_lexer": "ipython3",
   "version": "3.9.7"
  }
 },
 "nbformat": 4,
 "nbformat_minor": 2
}
